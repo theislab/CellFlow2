{
 "cells": [
  {
   "cell_type": "code",
   "execution_count": 1,
   "id": "5765bb6c",
   "metadata": {},
   "outputs": [],
   "source": [
    "%load_ext autoreload\n",
    "%autoreload 2\n",
    "\n",
    "import cellflow as cf\n"
   ]
  },
  {
   "cell_type": "code",
   "execution_count": 2,
   "id": "e94414bb",
   "metadata": {},
   "outputs": [
    {
     "name": "stdout",
     "output_type": "stream",
     "text": [
      "loading data\n"
     ]
    },
    {
     "name": "stderr",
     "output_type": "stream",
     "text": [
      "/ictstr01/home/icb/selman.ozleyen/.local/share/mamba/envs/lpert/lib/python3.12/functools.py:912: ImplicitModificationWarning: Transforming to str index.\n",
      "  return dispatch(args[0].__class__)(*args, **kw)\n"
     ]
    }
   ],
   "source": [
    "from cellflow.model import CellFlow\n",
    "import anndata as ad\n",
    "import h5py\n",
    "\n",
    "from anndata.experimental import read_lazy\n",
    "\n",
    "print(\"loading data\")\n",
    "with h5py.File(\"/lustre/groups/ml01/workspace/100mil/100m_int_indices.h5ad\", \"r\") as f:\n",
    "    adata_all = ad.AnnData(\n",
    "        obs=ad.io.read_elem(f[\"obs\"]),\n",
    "        var=read_lazy(f[\"var\"]),\n",
    "        uns = read_lazy(f[\"uns\"]),\n",
    "        obsm = read_lazy(f[\"obsm\"]),\n",
    "    )"
   ]
  },
  {
   "cell_type": "code",
   "execution_count": 3,
   "id": "8f224240",
   "metadata": {},
   "outputs": [
    {
     "name": "stdout",
     "output_type": "stream",
     "text": [
      "[########################################] | 100% Completed | 908.17 ms\n",
      "[########################################] | 100% Completed | 21.42 s\n",
      "[########################################] | 100% Completed | 375.38 s\n"
     ]
    }
   ],
   "source": [
    "from cellflow.data import DataManager\n",
    "dm = DataManager(adata_all,  \n",
    "    sample_rep=\"X_pca\",\n",
    "    control_key=\"control\",\n",
    "    perturbation_covariates={\"drugs\": (\"drug\",), \"dosage\": (\"dosage\",)},\n",
    "    perturbation_covariate_reps={\"drugs\": \"drug_embeddings\"},\n",
    "    sample_covariates=[\"cell_line\"],\n",
    "    sample_covariate_reps={\"cell_line\": \"cell_line_embeddings\"},\n",
    "    split_covariates=[\"cell_line\"],\n",
    "    max_combination_length=None,\n",
    "    null_value=0.0\n",
    ")\n",
    "\n",
    "cond_data = dm._get_condition_data(adata=adata_all)\n",
    "cell_data = dm._get_cell_data(adata_all)"
   ]
  },
  {
   "cell_type": "code",
   "execution_count": 27,
   "id": "c41b2a3b",
   "metadata": {},
   "outputs": [
    {
     "name": "stderr",
     "output_type": "stream",
     "text": [
      "Computing source to cell data idcs: 100%|██████████| 50/50 [00:00<00:00, 75.74it/s]\n",
      "Computing target to cell data idcs:  14%|█▍        | 8030/56827 [00:27<02:48, 289.15it/s]\n"
     ]
    },
    {
     "ename": "KeyboardInterrupt",
     "evalue": "",
     "output_type": "error",
     "traceback": [
      "\u001b[31m---------------------------------------------------------------------------\u001b[39m",
      "\u001b[31mKeyboardInterrupt\u001b[39m                         Traceback (most recent call last)",
      "\u001b[36mCell\u001b[39m\u001b[36m \u001b[39m\u001b[32mIn[27]\u001b[39m\u001b[32m, line 21\u001b[39m\n\u001b[32m     18\u001b[39m \u001b[38;5;28;01mfor\u001b[39;00m tgt_idx \u001b[38;5;129;01min\u001b[39;00m tqdm.tqdm(\u001b[38;5;28mrange\u001b[39m(n_target_dists), desc=\u001b[33m\"\u001b[39m\u001b[33mComputing target to cell data idcs\u001b[39m\u001b[33m\"\u001b[39m):\n\u001b[32m     19\u001b[39m     mask = gpu_per_cov_mask == tgt_idx\n\u001b[32m     20\u001b[39m     tgt_cell_data[\u001b[38;5;28mstr\u001b[39m(tgt_idx)] = {\n\u001b[32m---> \u001b[39m\u001b[32m21\u001b[39m         \u001b[33m\"\u001b[39m\u001b[33mcell_data_index\u001b[39m\u001b[33m\"\u001b[39m: \u001b[43mcp\u001b[49m\u001b[43m.\u001b[49m\u001b[43mwhere\u001b[49m\u001b[43m(\u001b[49m\u001b[43mmask\u001b[49m\u001b[43m)\u001b[49m\u001b[43m[\u001b[49m\u001b[32;43m0\u001b[39;49m\u001b[43m]\u001b[49m\u001b[43m.\u001b[49m\u001b[43mget\u001b[49m\u001b[43m(\u001b[49m\u001b[43m)\u001b[49m,\n\u001b[32m     22\u001b[39m     }\n",
      "\u001b[31mKeyboardInterrupt\u001b[39m: "
     ]
    }
   ],
   "source": [
    "import cupy as cp\n",
    "import tqdm\n",
    "\n",
    "n_source_dists = len(cond_data.split_idx_to_covariates)\n",
    "n_target_dists = len(cond_data.perturbation_idx_to_covariates)\n",
    "\n",
    "tgt_cell_data = {}\n",
    "src_cell_data = {}\n",
    "gpu_per_cov_mask = cp.asarray(cond_data.perturbation_covariates_mask)\n",
    "gpu_spl_cov_mask = cp.asarray(cond_data.split_covariates_mask)\n",
    "\n",
    "for src_idx in tqdm.tqdm(range(n_source_dists), desc=\"Computing source to cell data idcs\"):\n",
    "    mask = gpu_spl_cov_mask == src_idx\n",
    "    src_cell_data[str(src_idx)] = {\n",
    "        \"cell_data_index\": cp.where(mask)[0].get(),\n",
    "    }\n",
    "\n",
    "for tgt_idx in tqdm.tqdm(range(n_target_dists), desc=\"Computing target to cell data idcs\"):\n",
    "    mask = gpu_per_cov_mask == tgt_idx\n",
    "    tgt_cell_data[str(tgt_idx)] = {\n",
    "        \"cell_data_index\": cp.where(mask)[0].get(),\n",
    "    }\n"
   ]
  },
  {
   "cell_type": "code",
   "execution_count": null,
   "id": "5a352c69",
   "metadata": {},
   "outputs": [
    {
     "data": {
      "text/html": [
       "<table>\n",
       "    <tr>\n",
       "        <td>\n",
       "            <table style=\"border-collapse: collapse;\">\n",
       "                <thead>\n",
       "                    <tr>\n",
       "                        <td> </td>\n",
       "                        <th> Array </th>\n",
       "                        <th> Chunk </th>\n",
       "                    </tr>\n",
       "                </thead>\n",
       "                <tbody>\n",
       "                    \n",
       "                    <tr>\n",
       "                        <th> Bytes </th>\n",
       "                        <td> 106.87 GiB </td>\n",
       "                        <td> 1.14 MiB </td>\n",
       "                    </tr>\n",
       "                    \n",
       "                    <tr>\n",
       "                        <th> Shape </th>\n",
       "                        <td> (95624334, 300) </td>\n",
       "                        <td> (1000, 300) </td>\n",
       "                    </tr>\n",
       "                    <tr>\n",
       "                        <th> Dask graph </th>\n",
       "                        <td colspan=\"2\"> 95625 chunks in 1 graph layer </td>\n",
       "                    </tr>\n",
       "                    <tr>\n",
       "                        <th> Data type </th>\n",
       "                        <td colspan=\"2\"> float32 numpy.ndarray </td>\n",
       "                    </tr>\n",
       "                </tbody>\n",
       "            </table>\n",
       "        </td>\n",
       "        <td>\n",
       "        <svg width=\"75\" height=\"170\" style=\"stroke:rgb(0,0,0);stroke-width:1\" >\n",
       "\n",
       "  <!-- Horizontal lines -->\n",
       "  <line x1=\"0\" y1=\"0\" x2=\"25\" y2=\"0\" style=\"stroke-width:2\" />\n",
       "  <line x1=\"0\" y1=\"6\" x2=\"25\" y2=\"6\" />\n",
       "  <line x1=\"0\" y1=\"12\" x2=\"25\" y2=\"12\" />\n",
       "  <line x1=\"0\" y1=\"18\" x2=\"25\" y2=\"18\" />\n",
       "  <line x1=\"0\" y1=\"25\" x2=\"25\" y2=\"25\" />\n",
       "  <line x1=\"0\" y1=\"31\" x2=\"25\" y2=\"31\" />\n",
       "  <line x1=\"0\" y1=\"37\" x2=\"25\" y2=\"37\" />\n",
       "  <line x1=\"0\" y1=\"44\" x2=\"25\" y2=\"44\" />\n",
       "  <line x1=\"0\" y1=\"50\" x2=\"25\" y2=\"50\" />\n",
       "  <line x1=\"0\" y1=\"56\" x2=\"25\" y2=\"56\" />\n",
       "  <line x1=\"0\" y1=\"63\" x2=\"25\" y2=\"63\" />\n",
       "  <line x1=\"0\" y1=\"69\" x2=\"25\" y2=\"69\" />\n",
       "  <line x1=\"0\" y1=\"75\" x2=\"25\" y2=\"75\" />\n",
       "  <line x1=\"0\" y1=\"82\" x2=\"25\" y2=\"82\" />\n",
       "  <line x1=\"0\" y1=\"88\" x2=\"25\" y2=\"88\" />\n",
       "  <line x1=\"0\" y1=\"94\" x2=\"25\" y2=\"94\" />\n",
       "  <line x1=\"0\" y1=\"101\" x2=\"25\" y2=\"101\" />\n",
       "  <line x1=\"0\" y1=\"107\" x2=\"25\" y2=\"107\" />\n",
       "  <line x1=\"0\" y1=\"113\" x2=\"25\" y2=\"113\" />\n",
       "  <line x1=\"0\" y1=\"120\" x2=\"25\" y2=\"120\" style=\"stroke-width:2\" />\n",
       "\n",
       "  <!-- Vertical lines -->\n",
       "  <line x1=\"0\" y1=\"0\" x2=\"0\" y2=\"120\" style=\"stroke-width:2\" />\n",
       "  <line x1=\"25\" y1=\"0\" x2=\"25\" y2=\"120\" style=\"stroke-width:2\" />\n",
       "\n",
       "  <!-- Colored Rectangle -->\n",
       "  <polygon points=\"0.0,0.0 25.412616514582485,0.0 25.412616514582485,120.0 0.0,120.0\" style=\"fill:#8B4903A0;stroke-width:0\"/>\n",
       "\n",
       "  <!-- Text -->\n",
       "  <text x=\"12.706308\" y=\"140.000000\" font-size=\"1.0rem\" font-weight=\"100\" text-anchor=\"middle\" >300</text>\n",
       "  <text x=\"45.412617\" y=\"60.000000\" font-size=\"1.0rem\" font-weight=\"100\" text-anchor=\"middle\" transform=\"rotate(-90,45.412617,60.000000)\">95624334</text>\n",
       "</svg>\n",
       "        </td>\n",
       "    </tr>\n",
       "</table>"
      ],
      "text/plain": [
       "dask.array<make_dask_chunk, shape=(95624334, 300), dtype=float32, chunksize=(1000, 300), chunktype=numpy.ndarray>"
      ]
     },
     "execution_count": 22,
     "metadata": {},
     "output_type": "execute_result"
    }
   ],
   "source": [
    "cell_data"
   ]
  },
  {
   "cell_type": "code",
   "execution_count": null,
   "id": "26c512d3",
   "metadata": {},
   "outputs": [
    {
     "name": "stderr",
     "output_type": "stream",
     "text": [
      "Computing source to cell data: 100%|██████████| 50/50 [00:00<00:00, 246.04it/s]\n",
      "Computing target to cell data: 100%|██████████| 56827/56827 [00:08<00:00, 6554.24it/s]\n"
     ]
    }
   ],
   "source": [
    "import dask\n",
    "\n",
    "\n",
    "for src_idx in tqdm.tqdm(range(n_source_dists), desc=\"Computing source to cell data\"):\n",
    "    indices = src_cell_data[str(src_idx)][\"cell_data_index\"]\n",
    "    delayed_obj = dask.delayed(lambda x: cell_data[x])(indices)\n",
    "    src_cell_data[str(src_idx)][\"cell_data\"] = dask.array.from_delayed(delayed_obj, shape=(len(indices), cell_data.shape[1]), dtype=cell_data.dtype)\n",
    "\n",
    "for tgt_idx in tqdm.tqdm(range(n_target_dists), desc=\"Computing target to cell data\"):\n",
    "    indices = tgt_cell_data[str(tgt_idx)][\"cell_data_index\"]\n",
    "    delayed_obj = dask.delayed(lambda x: cell_data[x])(indices)\n",
    "    tgt_cell_data[str(tgt_idx)][\"cell_data\"] = dask.array.from_delayed(delayed_obj, shape=(len(indices), cell_data.shape[1]), dtype=cell_data.dtype)\n"
   ]
  },
  {
   "cell_type": "code",
   "execution_count": null,
   "id": "6d01e392",
   "metadata": {},
   "outputs": [],
   "source": [
    "import numpy as np\n",
    "\n",
    "split_covariates_mask = np.asarray(cond_data.split_covariates_mask)\n",
    "perturbation_covariates_mask = np.asarray(cond_data.perturbation_covariates_mask)\n",
    "condition_data = {str(k): np.asarray(v) for k, v in (cond_data.condition_data or {}).items()}\n",
    "control_to_perturbation = {str(k): np.asarray(v) for k, v in (cond_data.control_to_perturbation or {}).items()}\n",
    "split_idx_to_covariates = {str(k): np.asarray(v) for k, v in (cond_data.split_idx_to_covariates or {}).items()}\n",
    "perturbation_idx_to_covariates = {\n",
    "    str(k): np.asarray(v) for k, v in (cond_data.perturbation_idx_to_covariates or {}).items()\n",
    "}\n",
    "perturbation_idx_to_id = {str(k): v for k, v in (cond_data.perturbation_idx_to_id or {}).items()}"
   ]
  },
  {
   "cell_type": "code",
   "execution_count": null,
   "id": "e49deaf9",
   "metadata": {},
   "outputs": [],
   "source": [
    "train_data_dict = {\n",
    "    \"split_covariates_mask\": split_covariates_mask,\n",
    "    \"perturbation_covariates_mask\": perturbation_covariates_mask,\n",
    "    \"split_idx_to_covariates\": split_idx_to_covariates,\n",
    "    \"perturbation_idx_to_covariates\": perturbation_idx_to_covariates,\n",
    "    \"perturbation_idx_to_id\": perturbation_idx_to_id,\n",
    "    \"condition_data\": condition_data,\n",
    "    \"control_to_perturbation\": control_to_perturbation,\n",
    "    \"max_combination_length\": int(cond_data.max_combination_length),\n",
    "    \"src_cell_data\": src_cell_data,\n",
    "    \"tgt_cell_data\": tgt_cell_data,\n",
    "}"
   ]
  },
  {
   "cell_type": "code",
   "execution_count": null,
   "id": "32e27b1f",
   "metadata": {},
   "outputs": [
    {
     "ename": "KeyboardInterrupt",
     "evalue": "",
     "output_type": "error",
     "traceback": [
      "\u001b[31m---------------------------------------------------------------------------\u001b[39m",
      "\u001b[31mKeyboardInterrupt\u001b[39m                         Traceback (most recent call last)",
      "\u001b[36mCell\u001b[39m\u001b[36m \u001b[39m\u001b[32mIn[26]\u001b[39m\u001b[32m, line 8\u001b[39m\n\u001b[32m      6\u001b[39m chunk_size = \u001b[32m65536\u001b[39m\n\u001b[32m      7\u001b[39m shard_size = chunk_size * \u001b[32m16\u001b[39m\n\u001b[32m----> \u001b[39m\u001b[32m8\u001b[39m \u001b[43mwrite_sharded\u001b[49m\u001b[43m(\u001b[49m\n\u001b[32m      9\u001b[39m \u001b[43m    \u001b[49m\u001b[43mzgroup\u001b[49m\u001b[43m,\u001b[49m\n\u001b[32m     10\u001b[39m \u001b[43m    \u001b[49m\u001b[43mtrain_data_dict\u001b[49m\u001b[43m,\u001b[49m\n\u001b[32m     11\u001b[39m \u001b[43m    \u001b[49m\u001b[43mchunk_size\u001b[49m\u001b[43m=\u001b[49m\u001b[43mchunk_size\u001b[49m\u001b[43m,\u001b[49m\n\u001b[32m     12\u001b[39m \u001b[43m    \u001b[49m\u001b[43mshard_size\u001b[49m\u001b[43m=\u001b[49m\u001b[43mshard_size\u001b[49m\u001b[43m,\u001b[49m\n\u001b[32m     13\u001b[39m \u001b[43m    \u001b[49m\u001b[43mcompressors\u001b[49m\u001b[43m=\u001b[49m\u001b[38;5;28;43;01mNone\u001b[39;49;00m\u001b[43m,\u001b[49m\n\u001b[32m     14\u001b[39m \u001b[43m)\u001b[49m\n",
      "\u001b[36mFile \u001b[39m\u001b[32m/ictstr01/home/icb/selman.ozleyen/projects/CellFlow2/src/cellflow/data/_utils.py:65\u001b[39m, in \u001b[36mwrite_sharded\u001b[39m\u001b[34m(group, data, chunk_size, shard_size, compressors)\u001b[39m\n\u001b[32m     56\u001b[39m         dataset_kwargs = {\n\u001b[32m     57\u001b[39m             \u001b[33m\"\u001b[39m\u001b[33mshards\u001b[39m\u001b[33m\"\u001b[39m: (shard_size,),\n\u001b[32m     58\u001b[39m             \u001b[33m\"\u001b[39m\u001b[33mchunks\u001b[39m\u001b[33m\"\u001b[39m: (chunk_size,),\n\u001b[32m     59\u001b[39m             \u001b[33m\"\u001b[39m\u001b[33mcompressors\u001b[39m\u001b[33m\"\u001b[39m: compressors,\n\u001b[32m     60\u001b[39m             **dataset_kwargs,\n\u001b[32m     61\u001b[39m         }\n\u001b[32m     63\u001b[39m     func(g, k, elem, dataset_kwargs=dataset_kwargs)\n\u001b[32m---> \u001b[39m\u001b[32m65\u001b[39m \u001b[43mad\u001b[49m\u001b[43m.\u001b[49m\u001b[43mexperimental\u001b[49m\u001b[43m.\u001b[49m\u001b[43mwrite_dispatched\u001b[49m\u001b[43m(\u001b[49m\u001b[43mgroup\u001b[49m\u001b[43m,\u001b[49m\u001b[43m \u001b[49m\u001b[33;43m\"\u001b[39;49m\u001b[33;43m/\u001b[39;49m\u001b[33;43m\"\u001b[39;49m\u001b[43m,\u001b[49m\u001b[43m \u001b[49m\u001b[43mdata\u001b[49m\u001b[43m,\u001b[49m\u001b[43m \u001b[49m\u001b[43mcallback\u001b[49m\u001b[43m=\u001b[49m\u001b[43mcallback\u001b[49m\u001b[43m)\u001b[49m\n\u001b[32m     66\u001b[39m zarr.consolidate_metadata(group.store)\n",
      "\u001b[36mFile \u001b[39m\u001b[32m/ictstr01/home/icb/selman.ozleyen/.local/share/mamba/envs/lpert/lib/python3.12/site-packages/anndata/experimental/_dispatch_io.py:77\u001b[39m, in \u001b[36mwrite_dispatched\u001b[39m\u001b[34m(store, key, elem, callback, dataset_kwargs)\u001b[39m\n\u001b[32m     73\u001b[39m \u001b[38;5;28;01mfrom\u001b[39;00m\u001b[38;5;250m \u001b[39m\u001b[34;01manndata\u001b[39;00m\u001b[34;01m.\u001b[39;00m\u001b[34;01m_io\u001b[39;00m\u001b[34;01m.\u001b[39;00m\u001b[34;01mspecs\u001b[39;00m\u001b[38;5;250m \u001b[39m\u001b[38;5;28;01mimport\u001b[39;00m _REGISTRY, Writer\n\u001b[32m     75\u001b[39m writer = Writer(_REGISTRY, callback=callback)\n\u001b[32m---> \u001b[39m\u001b[32m77\u001b[39m \u001b[43mwriter\u001b[49m\u001b[43m.\u001b[49m\u001b[43mwrite_elem\u001b[49m\u001b[43m(\u001b[49m\u001b[43mstore\u001b[49m\u001b[43m,\u001b[49m\u001b[43m \u001b[49m\u001b[43mkey\u001b[49m\u001b[43m,\u001b[49m\u001b[43m \u001b[49m\u001b[43melem\u001b[49m\u001b[43m,\u001b[49m\u001b[43m \u001b[49m\u001b[43mdataset_kwargs\u001b[49m\u001b[43m=\u001b[49m\u001b[43mdataset_kwargs\u001b[49m\u001b[43m)\u001b[49m\n",
      "\u001b[36mFile \u001b[39m\u001b[32m/ictstr01/home/icb/selman.ozleyen/.local/share/mamba/envs/lpert/lib/python3.12/site-packages/anndata/_io/utils.py:248\u001b[39m, in \u001b[36mreport_write_key_on_error.<locals>.func_wrapper\u001b[39m\u001b[34m(*args, **kwargs)\u001b[39m\n\u001b[32m    246\u001b[39m     \u001b[38;5;28;01mraise\u001b[39;00m \u001b[38;5;167;01mValueError\u001b[39;00m(msg)\n\u001b[32m    247\u001b[39m \u001b[38;5;28;01mtry\u001b[39;00m:\n\u001b[32m--> \u001b[39m\u001b[32m248\u001b[39m     \u001b[38;5;28;01mreturn\u001b[39;00m \u001b[43mfunc\u001b[49m\u001b[43m(\u001b[49m\u001b[43m*\u001b[49m\u001b[43margs\u001b[49m\u001b[43m,\u001b[49m\u001b[43m \u001b[49m\u001b[43m*\u001b[49m\u001b[43m*\u001b[49m\u001b[43mkwargs\u001b[49m\u001b[43m)\u001b[49m\n\u001b[32m    249\u001b[39m \u001b[38;5;28;01mexcept\u001b[39;00m \u001b[38;5;167;01mException\u001b[39;00m \u001b[38;5;28;01mas\u001b[39;00m e:\n\u001b[32m    250\u001b[39m     path = _get_display_path(store)\n",
      "\u001b[36mFile \u001b[39m\u001b[32m/ictstr01/home/icb/selman.ozleyen/.local/share/mamba/envs/lpert/lib/python3.12/site-packages/anndata/_io/specs/registry.py:393\u001b[39m, in \u001b[36mWriter.write_elem\u001b[39m\u001b[34m(self, store, k, elem, dataset_kwargs, modifiers)\u001b[39m\n\u001b[32m    391\u001b[39m \u001b[38;5;28;01mif\u001b[39;00m \u001b[38;5;28mself\u001b[39m.callback \u001b[38;5;129;01mis\u001b[39;00m \u001b[38;5;28;01mNone\u001b[39;00m:\n\u001b[32m    392\u001b[39m     \u001b[38;5;28;01mreturn\u001b[39;00m write_func(store, k, elem, dataset_kwargs=dataset_kwargs)\n\u001b[32m--> \u001b[39m\u001b[32m393\u001b[39m \u001b[38;5;28;01mreturn\u001b[39;00m \u001b[38;5;28;43mself\u001b[39;49m\u001b[43m.\u001b[49m\u001b[43mcallback\u001b[49m\u001b[43m(\u001b[49m\n\u001b[32m    394\u001b[39m \u001b[43m    \u001b[49m\u001b[43mwrite_func\u001b[49m\u001b[43m,\u001b[49m\n\u001b[32m    395\u001b[39m \u001b[43m    \u001b[49m\u001b[43mstore\u001b[49m\u001b[43m,\u001b[49m\n\u001b[32m    396\u001b[39m \u001b[43m    \u001b[49m\u001b[43mk\u001b[49m\u001b[43m,\u001b[49m\n\u001b[32m    397\u001b[39m \u001b[43m    \u001b[49m\u001b[43melem\u001b[49m\u001b[43m,\u001b[49m\n\u001b[32m    398\u001b[39m \u001b[43m    \u001b[49m\u001b[43mdataset_kwargs\u001b[49m\u001b[43m=\u001b[49m\u001b[43mdataset_kwargs\u001b[49m\u001b[43m,\u001b[49m\n\u001b[32m    399\u001b[39m \u001b[43m    \u001b[49m\u001b[43miospec\u001b[49m\u001b[43m=\u001b[49m\u001b[38;5;28;43mself\u001b[39;49m\u001b[43m.\u001b[49m\u001b[43mregistry\u001b[49m\u001b[43m.\u001b[49m\u001b[43mget_spec\u001b[49m\u001b[43m(\u001b[49m\u001b[43melem\u001b[49m\u001b[43m)\u001b[49m\u001b[43m,\u001b[49m\n\u001b[32m    400\u001b[39m \u001b[43m\u001b[49m\u001b[43m)\u001b[49m\n",
      "\u001b[36mFile \u001b[39m\u001b[32m/ictstr01/home/icb/selman.ozleyen/projects/CellFlow2/src/cellflow/data/_utils.py:63\u001b[39m, in \u001b[36mwrite_sharded.<locals>.callback\u001b[39m\u001b[34m(func, g, k, elem, dataset_kwargs, iospec)\u001b[39m\n\u001b[32m     55\u001b[39m \u001b[38;5;28;01melif\u001b[39;00m iospec.encoding_type \u001b[38;5;129;01min\u001b[39;00m {\u001b[33m\"\u001b[39m\u001b[33mcsr_matrix\u001b[39m\u001b[33m\"\u001b[39m, \u001b[33m\"\u001b[39m\u001b[33mcsc_matrix\u001b[39m\u001b[33m\"\u001b[39m}:\n\u001b[32m     56\u001b[39m     dataset_kwargs = {\n\u001b[32m     57\u001b[39m         \u001b[33m\"\u001b[39m\u001b[33mshards\u001b[39m\u001b[33m\"\u001b[39m: (shard_size,),\n\u001b[32m     58\u001b[39m         \u001b[33m\"\u001b[39m\u001b[33mchunks\u001b[39m\u001b[33m\"\u001b[39m: (chunk_size,),\n\u001b[32m     59\u001b[39m         \u001b[33m\"\u001b[39m\u001b[33mcompressors\u001b[39m\u001b[33m\"\u001b[39m: compressors,\n\u001b[32m     60\u001b[39m         **dataset_kwargs,\n\u001b[32m     61\u001b[39m     }\n\u001b[32m---> \u001b[39m\u001b[32m63\u001b[39m \u001b[43mfunc\u001b[49m\u001b[43m(\u001b[49m\u001b[43mg\u001b[49m\u001b[43m,\u001b[49m\u001b[43m \u001b[49m\u001b[43mk\u001b[49m\u001b[43m,\u001b[49m\u001b[43m \u001b[49m\u001b[43melem\u001b[49m\u001b[43m,\u001b[49m\u001b[43m \u001b[49m\u001b[43mdataset_kwargs\u001b[49m\u001b[43m=\u001b[49m\u001b[43mdataset_kwargs\u001b[49m\u001b[43m)\u001b[49m\n",
      "\u001b[36mFile \u001b[39m\u001b[32m/ictstr01/home/icb/selman.ozleyen/.local/share/mamba/envs/lpert/lib/python3.12/site-packages/anndata/_io/specs/registry.py:77\u001b[39m, in \u001b[36mwrite_spec.<locals>.decorator.<locals>.wrapper\u001b[39m\u001b[34m(g, k, *args, **kwargs)\u001b[39m\n\u001b[32m     75\u001b[39m \u001b[38;5;129m@wraps\u001b[39m(func)\n\u001b[32m     76\u001b[39m \u001b[38;5;28;01mdef\u001b[39;00m\u001b[38;5;250m \u001b[39m\u001b[34mwrapper\u001b[39m(g: GroupStorageType, k: \u001b[38;5;28mstr\u001b[39m, *args, **kwargs):\n\u001b[32m---> \u001b[39m\u001b[32m77\u001b[39m     result = \u001b[43mfunc\u001b[49m\u001b[43m(\u001b[49m\u001b[43mg\u001b[49m\u001b[43m,\u001b[49m\u001b[43m \u001b[49m\u001b[43mk\u001b[49m\u001b[43m,\u001b[49m\u001b[43m \u001b[49m\u001b[43m*\u001b[49m\u001b[43margs\u001b[49m\u001b[43m,\u001b[49m\u001b[43m \u001b[49m\u001b[43m*\u001b[49m\u001b[43m*\u001b[49m\u001b[43mkwargs\u001b[49m\u001b[43m)\u001b[49m\n\u001b[32m     78\u001b[39m     g[k].attrs.setdefault(\u001b[33m\"\u001b[39m\u001b[33mencoding-type\u001b[39m\u001b[33m\"\u001b[39m, spec.encoding_type)\n\u001b[32m     79\u001b[39m     g[k].attrs.setdefault(\u001b[33m\"\u001b[39m\u001b[33mencoding-version\u001b[39m\u001b[33m\"\u001b[39m, spec.encoding_version)\n",
      "\u001b[36mFile \u001b[39m\u001b[32m/ictstr01/home/icb/selman.ozleyen/.local/share/mamba/envs/lpert/lib/python3.12/site-packages/anndata/_io/specs/methods.py:387\u001b[39m, in \u001b[36mwrite_mapping\u001b[39m\u001b[34m(f, k, v, _writer, dataset_kwargs)\u001b[39m\n\u001b[32m    385\u001b[39m g = f.require_group(k)\n\u001b[32m    386\u001b[39m \u001b[38;5;28;01mfor\u001b[39;00m sub_k, sub_v \u001b[38;5;129;01min\u001b[39;00m v.items():\n\u001b[32m--> \u001b[39m\u001b[32m387\u001b[39m     \u001b[43m_writer\u001b[49m\u001b[43m.\u001b[49m\u001b[43mwrite_elem\u001b[49m\u001b[43m(\u001b[49m\u001b[43mg\u001b[49m\u001b[43m,\u001b[49m\u001b[43m \u001b[49m\u001b[43msub_k\u001b[49m\u001b[43m,\u001b[49m\u001b[43m \u001b[49m\u001b[43msub_v\u001b[49m\u001b[43m,\u001b[49m\u001b[43m \u001b[49m\u001b[43mdataset_kwargs\u001b[49m\u001b[43m=\u001b[49m\u001b[43mdataset_kwargs\u001b[49m\u001b[43m)\u001b[49m\n",
      "\u001b[36mFile \u001b[39m\u001b[32m/ictstr01/home/icb/selman.ozleyen/.local/share/mamba/envs/lpert/lib/python3.12/site-packages/anndata/_io/utils.py:248\u001b[39m, in \u001b[36mreport_write_key_on_error.<locals>.func_wrapper\u001b[39m\u001b[34m(*args, **kwargs)\u001b[39m\n\u001b[32m    246\u001b[39m     \u001b[38;5;28;01mraise\u001b[39;00m \u001b[38;5;167;01mValueError\u001b[39;00m(msg)\n\u001b[32m    247\u001b[39m \u001b[38;5;28;01mtry\u001b[39;00m:\n\u001b[32m--> \u001b[39m\u001b[32m248\u001b[39m     \u001b[38;5;28;01mreturn\u001b[39;00m \u001b[43mfunc\u001b[49m\u001b[43m(\u001b[49m\u001b[43m*\u001b[49m\u001b[43margs\u001b[49m\u001b[43m,\u001b[49m\u001b[43m \u001b[49m\u001b[43m*\u001b[49m\u001b[43m*\u001b[49m\u001b[43mkwargs\u001b[49m\u001b[43m)\u001b[49m\n\u001b[32m    249\u001b[39m \u001b[38;5;28;01mexcept\u001b[39;00m \u001b[38;5;167;01mException\u001b[39;00m \u001b[38;5;28;01mas\u001b[39;00m e:\n\u001b[32m    250\u001b[39m     path = _get_display_path(store)\n",
      "\u001b[36mFile \u001b[39m\u001b[32m/ictstr01/home/icb/selman.ozleyen/.local/share/mamba/envs/lpert/lib/python3.12/site-packages/anndata/_io/specs/registry.py:393\u001b[39m, in \u001b[36mWriter.write_elem\u001b[39m\u001b[34m(self, store, k, elem, dataset_kwargs, modifiers)\u001b[39m\n\u001b[32m    391\u001b[39m \u001b[38;5;28;01mif\u001b[39;00m \u001b[38;5;28mself\u001b[39m.callback \u001b[38;5;129;01mis\u001b[39;00m \u001b[38;5;28;01mNone\u001b[39;00m:\n\u001b[32m    392\u001b[39m     \u001b[38;5;28;01mreturn\u001b[39;00m write_func(store, k, elem, dataset_kwargs=dataset_kwargs)\n\u001b[32m--> \u001b[39m\u001b[32m393\u001b[39m \u001b[38;5;28;01mreturn\u001b[39;00m \u001b[38;5;28;43mself\u001b[39;49m\u001b[43m.\u001b[49m\u001b[43mcallback\u001b[49m\u001b[43m(\u001b[49m\n\u001b[32m    394\u001b[39m \u001b[43m    \u001b[49m\u001b[43mwrite_func\u001b[49m\u001b[43m,\u001b[49m\n\u001b[32m    395\u001b[39m \u001b[43m    \u001b[49m\u001b[43mstore\u001b[49m\u001b[43m,\u001b[49m\n\u001b[32m    396\u001b[39m \u001b[43m    \u001b[49m\u001b[43mk\u001b[49m\u001b[43m,\u001b[49m\n\u001b[32m    397\u001b[39m \u001b[43m    \u001b[49m\u001b[43melem\u001b[49m\u001b[43m,\u001b[49m\n\u001b[32m    398\u001b[39m \u001b[43m    \u001b[49m\u001b[43mdataset_kwargs\u001b[49m\u001b[43m=\u001b[49m\u001b[43mdataset_kwargs\u001b[49m\u001b[43m,\u001b[49m\n\u001b[32m    399\u001b[39m \u001b[43m    \u001b[49m\u001b[43miospec\u001b[49m\u001b[43m=\u001b[49m\u001b[38;5;28;43mself\u001b[39;49m\u001b[43m.\u001b[49m\u001b[43mregistry\u001b[49m\u001b[43m.\u001b[49m\u001b[43mget_spec\u001b[49m\u001b[43m(\u001b[49m\u001b[43melem\u001b[49m\u001b[43m)\u001b[49m\u001b[43m,\u001b[49m\n\u001b[32m    400\u001b[39m \u001b[43m\u001b[49m\u001b[43m)\u001b[49m\n",
      "\u001b[36mFile \u001b[39m\u001b[32m/ictstr01/home/icb/selman.ozleyen/projects/CellFlow2/src/cellflow/data/_utils.py:63\u001b[39m, in \u001b[36mwrite_sharded.<locals>.callback\u001b[39m\u001b[34m(func, g, k, elem, dataset_kwargs, iospec)\u001b[39m\n\u001b[32m     55\u001b[39m \u001b[38;5;28;01melif\u001b[39;00m iospec.encoding_type \u001b[38;5;129;01min\u001b[39;00m {\u001b[33m\"\u001b[39m\u001b[33mcsr_matrix\u001b[39m\u001b[33m\"\u001b[39m, \u001b[33m\"\u001b[39m\u001b[33mcsc_matrix\u001b[39m\u001b[33m\"\u001b[39m}:\n\u001b[32m     56\u001b[39m     dataset_kwargs = {\n\u001b[32m     57\u001b[39m         \u001b[33m\"\u001b[39m\u001b[33mshards\u001b[39m\u001b[33m\"\u001b[39m: (shard_size,),\n\u001b[32m     58\u001b[39m         \u001b[33m\"\u001b[39m\u001b[33mchunks\u001b[39m\u001b[33m\"\u001b[39m: (chunk_size,),\n\u001b[32m     59\u001b[39m         \u001b[33m\"\u001b[39m\u001b[33mcompressors\u001b[39m\u001b[33m\"\u001b[39m: compressors,\n\u001b[32m     60\u001b[39m         **dataset_kwargs,\n\u001b[32m     61\u001b[39m     }\n\u001b[32m---> \u001b[39m\u001b[32m63\u001b[39m \u001b[43mfunc\u001b[49m\u001b[43m(\u001b[49m\u001b[43mg\u001b[49m\u001b[43m,\u001b[49m\u001b[43m \u001b[49m\u001b[43mk\u001b[49m\u001b[43m,\u001b[49m\u001b[43m \u001b[49m\u001b[43melem\u001b[49m\u001b[43m,\u001b[49m\u001b[43m \u001b[49m\u001b[43mdataset_kwargs\u001b[49m\u001b[43m=\u001b[49m\u001b[43mdataset_kwargs\u001b[49m\u001b[43m)\u001b[49m\n",
      "\u001b[36mFile \u001b[39m\u001b[32m/ictstr01/home/icb/selman.ozleyen/.local/share/mamba/envs/lpert/lib/python3.12/site-packages/anndata/_io/specs/registry.py:77\u001b[39m, in \u001b[36mwrite_spec.<locals>.decorator.<locals>.wrapper\u001b[39m\u001b[34m(g, k, *args, **kwargs)\u001b[39m\n\u001b[32m     75\u001b[39m \u001b[38;5;129m@wraps\u001b[39m(func)\n\u001b[32m     76\u001b[39m \u001b[38;5;28;01mdef\u001b[39;00m\u001b[38;5;250m \u001b[39m\u001b[34mwrapper\u001b[39m(g: GroupStorageType, k: \u001b[38;5;28mstr\u001b[39m, *args, **kwargs):\n\u001b[32m---> \u001b[39m\u001b[32m77\u001b[39m     result = \u001b[43mfunc\u001b[49m\u001b[43m(\u001b[49m\u001b[43mg\u001b[49m\u001b[43m,\u001b[49m\u001b[43m \u001b[49m\u001b[43mk\u001b[49m\u001b[43m,\u001b[49m\u001b[43m \u001b[49m\u001b[43m*\u001b[49m\u001b[43margs\u001b[49m\u001b[43m,\u001b[49m\u001b[43m \u001b[49m\u001b[43m*\u001b[49m\u001b[43m*\u001b[49m\u001b[43mkwargs\u001b[49m\u001b[43m)\u001b[49m\n\u001b[32m     78\u001b[39m     g[k].attrs.setdefault(\u001b[33m\"\u001b[39m\u001b[33mencoding-type\u001b[39m\u001b[33m\"\u001b[39m, spec.encoding_type)\n\u001b[32m     79\u001b[39m     g[k].attrs.setdefault(\u001b[33m\"\u001b[39m\u001b[33mencoding-version\u001b[39m\u001b[33m\"\u001b[39m, spec.encoding_version)\n",
      "\u001b[36mFile \u001b[39m\u001b[32m/ictstr01/home/icb/selman.ozleyen/.local/share/mamba/envs/lpert/lib/python3.12/site-packages/anndata/_io/specs/methods.py:387\u001b[39m, in \u001b[36mwrite_mapping\u001b[39m\u001b[34m(f, k, v, _writer, dataset_kwargs)\u001b[39m\n\u001b[32m    385\u001b[39m g = f.require_group(k)\n\u001b[32m    386\u001b[39m \u001b[38;5;28;01mfor\u001b[39;00m sub_k, sub_v \u001b[38;5;129;01min\u001b[39;00m v.items():\n\u001b[32m--> \u001b[39m\u001b[32m387\u001b[39m     \u001b[43m_writer\u001b[49m\u001b[43m.\u001b[49m\u001b[43mwrite_elem\u001b[49m\u001b[43m(\u001b[49m\u001b[43mg\u001b[49m\u001b[43m,\u001b[49m\u001b[43m \u001b[49m\u001b[43msub_k\u001b[49m\u001b[43m,\u001b[49m\u001b[43m \u001b[49m\u001b[43msub_v\u001b[49m\u001b[43m,\u001b[49m\u001b[43m \u001b[49m\u001b[43mdataset_kwargs\u001b[49m\u001b[43m=\u001b[49m\u001b[43mdataset_kwargs\u001b[49m\u001b[43m)\u001b[49m\n",
      "\u001b[36mFile \u001b[39m\u001b[32m/ictstr01/home/icb/selman.ozleyen/.local/share/mamba/envs/lpert/lib/python3.12/site-packages/anndata/_io/utils.py:248\u001b[39m, in \u001b[36mreport_write_key_on_error.<locals>.func_wrapper\u001b[39m\u001b[34m(*args, **kwargs)\u001b[39m\n\u001b[32m    246\u001b[39m     \u001b[38;5;28;01mraise\u001b[39;00m \u001b[38;5;167;01mValueError\u001b[39;00m(msg)\n\u001b[32m    247\u001b[39m \u001b[38;5;28;01mtry\u001b[39;00m:\n\u001b[32m--> \u001b[39m\u001b[32m248\u001b[39m     \u001b[38;5;28;01mreturn\u001b[39;00m \u001b[43mfunc\u001b[49m\u001b[43m(\u001b[49m\u001b[43m*\u001b[49m\u001b[43margs\u001b[49m\u001b[43m,\u001b[49m\u001b[43m \u001b[49m\u001b[43m*\u001b[49m\u001b[43m*\u001b[49m\u001b[43mkwargs\u001b[49m\u001b[43m)\u001b[49m\n\u001b[32m    249\u001b[39m \u001b[38;5;28;01mexcept\u001b[39;00m \u001b[38;5;167;01mException\u001b[39;00m \u001b[38;5;28;01mas\u001b[39;00m e:\n\u001b[32m    250\u001b[39m     path = _get_display_path(store)\n",
      "\u001b[36mFile \u001b[39m\u001b[32m/ictstr01/home/icb/selman.ozleyen/.local/share/mamba/envs/lpert/lib/python3.12/site-packages/anndata/_io/specs/registry.py:393\u001b[39m, in \u001b[36mWriter.write_elem\u001b[39m\u001b[34m(self, store, k, elem, dataset_kwargs, modifiers)\u001b[39m\n\u001b[32m    391\u001b[39m \u001b[38;5;28;01mif\u001b[39;00m \u001b[38;5;28mself\u001b[39m.callback \u001b[38;5;129;01mis\u001b[39;00m \u001b[38;5;28;01mNone\u001b[39;00m:\n\u001b[32m    392\u001b[39m     \u001b[38;5;28;01mreturn\u001b[39;00m write_func(store, k, elem, dataset_kwargs=dataset_kwargs)\n\u001b[32m--> \u001b[39m\u001b[32m393\u001b[39m \u001b[38;5;28;01mreturn\u001b[39;00m \u001b[38;5;28;43mself\u001b[39;49m\u001b[43m.\u001b[49m\u001b[43mcallback\u001b[49m\u001b[43m(\u001b[49m\n\u001b[32m    394\u001b[39m \u001b[43m    \u001b[49m\u001b[43mwrite_func\u001b[49m\u001b[43m,\u001b[49m\n\u001b[32m    395\u001b[39m \u001b[43m    \u001b[49m\u001b[43mstore\u001b[49m\u001b[43m,\u001b[49m\n\u001b[32m    396\u001b[39m \u001b[43m    \u001b[49m\u001b[43mk\u001b[49m\u001b[43m,\u001b[49m\n\u001b[32m    397\u001b[39m \u001b[43m    \u001b[49m\u001b[43melem\u001b[49m\u001b[43m,\u001b[49m\n\u001b[32m    398\u001b[39m \u001b[43m    \u001b[49m\u001b[43mdataset_kwargs\u001b[49m\u001b[43m=\u001b[49m\u001b[43mdataset_kwargs\u001b[49m\u001b[43m,\u001b[49m\n\u001b[32m    399\u001b[39m \u001b[43m    \u001b[49m\u001b[43miospec\u001b[49m\u001b[43m=\u001b[49m\u001b[38;5;28;43mself\u001b[39;49m\u001b[43m.\u001b[49m\u001b[43mregistry\u001b[49m\u001b[43m.\u001b[49m\u001b[43mget_spec\u001b[49m\u001b[43m(\u001b[49m\u001b[43melem\u001b[49m\u001b[43m)\u001b[49m\u001b[43m,\u001b[49m\n\u001b[32m    400\u001b[39m \u001b[43m\u001b[49m\u001b[43m)\u001b[49m\n",
      "\u001b[36mFile \u001b[39m\u001b[32m/ictstr01/home/icb/selman.ozleyen/projects/CellFlow2/src/cellflow/data/_utils.py:63\u001b[39m, in \u001b[36mwrite_sharded.<locals>.callback\u001b[39m\u001b[34m(func, g, k, elem, dataset_kwargs, iospec)\u001b[39m\n\u001b[32m     55\u001b[39m \u001b[38;5;28;01melif\u001b[39;00m iospec.encoding_type \u001b[38;5;129;01min\u001b[39;00m {\u001b[33m\"\u001b[39m\u001b[33mcsr_matrix\u001b[39m\u001b[33m\"\u001b[39m, \u001b[33m\"\u001b[39m\u001b[33mcsc_matrix\u001b[39m\u001b[33m\"\u001b[39m}:\n\u001b[32m     56\u001b[39m     dataset_kwargs = {\n\u001b[32m     57\u001b[39m         \u001b[33m\"\u001b[39m\u001b[33mshards\u001b[39m\u001b[33m\"\u001b[39m: (shard_size,),\n\u001b[32m     58\u001b[39m         \u001b[33m\"\u001b[39m\u001b[33mchunks\u001b[39m\u001b[33m\"\u001b[39m: (chunk_size,),\n\u001b[32m     59\u001b[39m         \u001b[33m\"\u001b[39m\u001b[33mcompressors\u001b[39m\u001b[33m\"\u001b[39m: compressors,\n\u001b[32m     60\u001b[39m         **dataset_kwargs,\n\u001b[32m     61\u001b[39m     }\n\u001b[32m---> \u001b[39m\u001b[32m63\u001b[39m \u001b[43mfunc\u001b[49m\u001b[43m(\u001b[49m\u001b[43mg\u001b[49m\u001b[43m,\u001b[49m\u001b[43m \u001b[49m\u001b[43mk\u001b[49m\u001b[43m,\u001b[49m\u001b[43m \u001b[49m\u001b[43melem\u001b[49m\u001b[43m,\u001b[49m\u001b[43m \u001b[49m\u001b[43mdataset_kwargs\u001b[49m\u001b[43m=\u001b[49m\u001b[43mdataset_kwargs\u001b[49m\u001b[43m)\u001b[49m\n",
      "\u001b[36mFile \u001b[39m\u001b[32m/ictstr01/home/icb/selman.ozleyen/.local/share/mamba/envs/lpert/lib/python3.12/site-packages/anndata/_io/specs/registry.py:77\u001b[39m, in \u001b[36mwrite_spec.<locals>.decorator.<locals>.wrapper\u001b[39m\u001b[34m(g, k, *args, **kwargs)\u001b[39m\n\u001b[32m     75\u001b[39m \u001b[38;5;129m@wraps\u001b[39m(func)\n\u001b[32m     76\u001b[39m \u001b[38;5;28;01mdef\u001b[39;00m\u001b[38;5;250m \u001b[39m\u001b[34mwrapper\u001b[39m(g: GroupStorageType, k: \u001b[38;5;28mstr\u001b[39m, *args, **kwargs):\n\u001b[32m---> \u001b[39m\u001b[32m77\u001b[39m     result = \u001b[43mfunc\u001b[49m\u001b[43m(\u001b[49m\u001b[43mg\u001b[49m\u001b[43m,\u001b[49m\u001b[43m \u001b[49m\u001b[43mk\u001b[49m\u001b[43m,\u001b[49m\u001b[43m \u001b[49m\u001b[43m*\u001b[49m\u001b[43margs\u001b[49m\u001b[43m,\u001b[49m\u001b[43m \u001b[49m\u001b[43m*\u001b[49m\u001b[43m*\u001b[49m\u001b[43mkwargs\u001b[49m\u001b[43m)\u001b[49m\n\u001b[32m     78\u001b[39m     g[k].attrs.setdefault(\u001b[33m\"\u001b[39m\u001b[33mencoding-type\u001b[39m\u001b[33m\"\u001b[39m, spec.encoding_type)\n\u001b[32m     79\u001b[39m     g[k].attrs.setdefault(\u001b[33m\"\u001b[39m\u001b[33mencoding-version\u001b[39m\u001b[33m\"\u001b[39m, spec.encoding_version)\n",
      "\u001b[36mFile \u001b[39m\u001b[32m/ictstr01/home/icb/selman.ozleyen/.local/share/mamba/envs/lpert/lib/python3.12/site-packages/anndata/_io/utils.py:308\u001b[39m, in \u001b[36mzero_dim_array_as_scalar.<locals>.func_wrapper\u001b[39m\u001b[34m(f, k, elem, _writer, dataset_kwargs)\u001b[39m\n\u001b[32m    306\u001b[39m     _writer.write_elem(f, k, elem[()], dataset_kwargs=dataset_kwargs)\n\u001b[32m    307\u001b[39m \u001b[38;5;28;01melse\u001b[39;00m:\n\u001b[32m--> \u001b[39m\u001b[32m308\u001b[39m     \u001b[43mfunc\u001b[49m\u001b[43m(\u001b[49m\u001b[43mf\u001b[49m\u001b[43m,\u001b[49m\u001b[43m \u001b[49m\u001b[43mk\u001b[49m\u001b[43m,\u001b[49m\u001b[43m \u001b[49m\u001b[43melem\u001b[49m\u001b[43m,\u001b[49m\u001b[43m \u001b[49m\u001b[43m_writer\u001b[49m\u001b[43m=\u001b[49m\u001b[43m_writer\u001b[49m\u001b[43m,\u001b[49m\u001b[43m \u001b[49m\u001b[43mdataset_kwargs\u001b[49m\u001b[43m=\u001b[49m\u001b[43mdataset_kwargs\u001b[49m\u001b[43m)\u001b[49m\n",
      "\u001b[36mFile \u001b[39m\u001b[32m/ictstr01/home/icb/selman.ozleyen/.local/share/mamba/envs/lpert/lib/python3.12/site-packages/anndata/_io/specs/methods.py:645\u001b[39m, in \u001b[36mwrite_vlen_string_array_zarr\u001b[39m\u001b[34m(f, k, elem, _writer, dataset_kwargs)\u001b[39m\n\u001b[32m    636\u001b[39m     filters, fill_value = [VLenUTF8()], \u001b[33m\"\u001b[39m\u001b[33m\"\u001b[39m\n\u001b[32m    637\u001b[39m f.create_array(\n\u001b[32m    638\u001b[39m     k,\n\u001b[32m    639\u001b[39m     shape=elem.shape,\n\u001b[32m   (...)\u001b[39m\u001b[32m    643\u001b[39m     **dataset_kwargs,\n\u001b[32m    644\u001b[39m )\n\u001b[32m--> \u001b[39m\u001b[32m645\u001b[39m \u001b[43mf\u001b[49m\u001b[43m[\u001b[49m\u001b[43mk\u001b[49m\u001b[43m]\u001b[49m\u001b[43m[\u001b[49m\u001b[43m:\u001b[49m\u001b[43m]\u001b[49m = elem\n",
      "\u001b[36mFile \u001b[39m\u001b[32m/ictstr01/home/icb/selman.ozleyen/.local/share/mamba/envs/lpert/lib/python3.12/site-packages/zarr/core/array.py:2902\u001b[39m, in \u001b[36mArray.__setitem__\u001b[39m\u001b[34m(self, selection, value)\u001b[39m\n\u001b[32m   2900\u001b[39m     \u001b[38;5;28mself\u001b[39m.vindex[cast(\u001b[33m\"\u001b[39m\u001b[33mCoordinateSelection | MaskSelection\u001b[39m\u001b[33m\"\u001b[39m, selection)] = value\n\u001b[32m   2901\u001b[39m \u001b[38;5;28;01melif\u001b[39;00m is_pure_orthogonal_indexing(pure_selection, \u001b[38;5;28mself\u001b[39m.ndim):\n\u001b[32m-> \u001b[39m\u001b[32m2902\u001b[39m     \u001b[38;5;28;43mself\u001b[39;49m\u001b[43m.\u001b[49m\u001b[43mset_orthogonal_selection\u001b[49m\u001b[43m(\u001b[49m\u001b[43mpure_selection\u001b[49m\u001b[43m,\u001b[49m\u001b[43m \u001b[49m\u001b[43mvalue\u001b[49m\u001b[43m,\u001b[49m\u001b[43m \u001b[49m\u001b[43mfields\u001b[49m\u001b[43m=\u001b[49m\u001b[43mfields\u001b[49m\u001b[43m)\u001b[49m\n\u001b[32m   2903\u001b[39m \u001b[38;5;28;01melse\u001b[39;00m:\n\u001b[32m   2904\u001b[39m     \u001b[38;5;28mself\u001b[39m.set_basic_selection(cast(\u001b[33m\"\u001b[39m\u001b[33mBasicSelection\u001b[39m\u001b[33m\"\u001b[39m, pure_selection), value, fields=fields)\n",
      "\u001b[36mFile \u001b[39m\u001b[32m/ictstr01/home/icb/selman.ozleyen/.local/share/mamba/envs/lpert/lib/python3.12/site-packages/zarr/core/array.py:3354\u001b[39m, in \u001b[36mArray.set_orthogonal_selection\u001b[39m\u001b[34m(self, selection, value, fields, prototype)\u001b[39m\n\u001b[32m   3352\u001b[39m     prototype = default_buffer_prototype()\n\u001b[32m   3353\u001b[39m indexer = OrthogonalIndexer(selection, \u001b[38;5;28mself\u001b[39m.shape, \u001b[38;5;28mself\u001b[39m.metadata.chunk_grid)\n\u001b[32m-> \u001b[39m\u001b[32m3354\u001b[39m \u001b[38;5;28;01mreturn\u001b[39;00m \u001b[43msync\u001b[49m\u001b[43m(\u001b[49m\n\u001b[32m   3355\u001b[39m \u001b[43m    \u001b[49m\u001b[38;5;28;43mself\u001b[39;49m\u001b[43m.\u001b[49m\u001b[43m_async_array\u001b[49m\u001b[43m.\u001b[49m\u001b[43m_set_selection\u001b[49m\u001b[43m(\u001b[49m\u001b[43mindexer\u001b[49m\u001b[43m,\u001b[49m\u001b[43m \u001b[49m\u001b[43mvalue\u001b[49m\u001b[43m,\u001b[49m\u001b[43m \u001b[49m\u001b[43mfields\u001b[49m\u001b[43m=\u001b[49m\u001b[43mfields\u001b[49m\u001b[43m,\u001b[49m\u001b[43m \u001b[49m\u001b[43mprototype\u001b[49m\u001b[43m=\u001b[49m\u001b[43mprototype\u001b[49m\u001b[43m)\u001b[49m\n\u001b[32m   3356\u001b[39m \u001b[43m\u001b[49m\u001b[43m)\u001b[49m\n",
      "\u001b[36mFile \u001b[39m\u001b[32m/ictstr01/home/icb/selman.ozleyen/.local/share/mamba/envs/lpert/lib/python3.12/site-packages/zarr/core/sync.py:156\u001b[39m, in \u001b[36msync\u001b[39m\u001b[34m(coro, loop, timeout)\u001b[39m\n\u001b[32m    152\u001b[39m     \u001b[38;5;28;01mpass\u001b[39;00m\n\u001b[32m    154\u001b[39m future = asyncio.run_coroutine_threadsafe(_runner(coro), loop)\n\u001b[32m--> \u001b[39m\u001b[32m156\u001b[39m finished, unfinished = \u001b[43mwait\u001b[49m\u001b[43m(\u001b[49m\u001b[43m[\u001b[49m\u001b[43mfuture\u001b[49m\u001b[43m]\u001b[49m\u001b[43m,\u001b[49m\u001b[43m \u001b[49m\u001b[43mreturn_when\u001b[49m\u001b[43m=\u001b[49m\u001b[43masyncio\u001b[49m\u001b[43m.\u001b[49m\u001b[43mALL_COMPLETED\u001b[49m\u001b[43m,\u001b[49m\u001b[43m \u001b[49m\u001b[43mtimeout\u001b[49m\u001b[43m=\u001b[49m\u001b[43mtimeout\u001b[49m\u001b[43m)\u001b[49m\n\u001b[32m    157\u001b[39m \u001b[38;5;28;01mif\u001b[39;00m \u001b[38;5;28mlen\u001b[39m(unfinished) > \u001b[32m0\u001b[39m:\n\u001b[32m    158\u001b[39m     \u001b[38;5;28;01mraise\u001b[39;00m \u001b[38;5;167;01mTimeoutError\u001b[39;00m(\u001b[33mf\u001b[39m\u001b[33m\"\u001b[39m\u001b[33mCoroutine \u001b[39m\u001b[38;5;132;01m{\u001b[39;00mcoro\u001b[38;5;132;01m}\u001b[39;00m\u001b[33m failed to finish within \u001b[39m\u001b[38;5;132;01m{\u001b[39;00mtimeout\u001b[38;5;132;01m}\u001b[39;00m\u001b[33m s\u001b[39m\u001b[33m\"\u001b[39m)\n",
      "\u001b[36mFile \u001b[39m\u001b[32m/ictstr01/home/icb/selman.ozleyen/.local/share/mamba/envs/lpert/lib/python3.12/concurrent/futures/_base.py:305\u001b[39m, in \u001b[36mwait\u001b[39m\u001b[34m(fs, timeout, return_when)\u001b[39m\n\u001b[32m    301\u001b[39m         \u001b[38;5;28;01mreturn\u001b[39;00m DoneAndNotDoneFutures(done, not_done)\n\u001b[32m    303\u001b[39m     waiter = _create_and_install_waiters(fs, return_when)\n\u001b[32m--> \u001b[39m\u001b[32m305\u001b[39m \u001b[43mwaiter\u001b[49m\u001b[43m.\u001b[49m\u001b[43mevent\u001b[49m\u001b[43m.\u001b[49m\u001b[43mwait\u001b[49m\u001b[43m(\u001b[49m\u001b[43mtimeout\u001b[49m\u001b[43m)\u001b[49m\n\u001b[32m    306\u001b[39m \u001b[38;5;28;01mfor\u001b[39;00m f \u001b[38;5;129;01min\u001b[39;00m fs:\n\u001b[32m    307\u001b[39m     \u001b[38;5;28;01mwith\u001b[39;00m f._condition:\n",
      "\u001b[36mFile \u001b[39m\u001b[32m/ictstr01/home/icb/selman.ozleyen/.local/share/mamba/envs/lpert/lib/python3.12/threading.py:655\u001b[39m, in \u001b[36mEvent.wait\u001b[39m\u001b[34m(self, timeout)\u001b[39m\n\u001b[32m    653\u001b[39m signaled = \u001b[38;5;28mself\u001b[39m._flag\n\u001b[32m    654\u001b[39m \u001b[38;5;28;01mif\u001b[39;00m \u001b[38;5;129;01mnot\u001b[39;00m signaled:\n\u001b[32m--> \u001b[39m\u001b[32m655\u001b[39m     signaled = \u001b[38;5;28;43mself\u001b[39;49m\u001b[43m.\u001b[49m\u001b[43m_cond\u001b[49m\u001b[43m.\u001b[49m\u001b[43mwait\u001b[49m\u001b[43m(\u001b[49m\u001b[43mtimeout\u001b[49m\u001b[43m)\u001b[49m\n\u001b[32m    656\u001b[39m \u001b[38;5;28;01mreturn\u001b[39;00m signaled\n",
      "\u001b[36mFile \u001b[39m\u001b[32m/ictstr01/home/icb/selman.ozleyen/.local/share/mamba/envs/lpert/lib/python3.12/threading.py:355\u001b[39m, in \u001b[36mCondition.wait\u001b[39m\u001b[34m(self, timeout)\u001b[39m\n\u001b[32m    353\u001b[39m \u001b[38;5;28;01mtry\u001b[39;00m:    \u001b[38;5;66;03m# restore state no matter what (e.g., KeyboardInterrupt)\u001b[39;00m\n\u001b[32m    354\u001b[39m     \u001b[38;5;28;01mif\u001b[39;00m timeout \u001b[38;5;129;01mis\u001b[39;00m \u001b[38;5;28;01mNone\u001b[39;00m:\n\u001b[32m--> \u001b[39m\u001b[32m355\u001b[39m         \u001b[43mwaiter\u001b[49m\u001b[43m.\u001b[49m\u001b[43macquire\u001b[49m\u001b[43m(\u001b[49m\u001b[43m)\u001b[49m\n\u001b[32m    356\u001b[39m         gotit = \u001b[38;5;28;01mTrue\u001b[39;00m\n\u001b[32m    357\u001b[39m     \u001b[38;5;28;01melse\u001b[39;00m:\n",
      "\u001b[31mKeyboardInterrupt\u001b[39m: "
     ]
    }
   ],
   "source": [
    "import zarr\n",
    "from cellflow.data._utils import write_sharded\n",
    "\n",
    "path = \"test.zarr\"\n",
    "zgroup = zarr.open_group(path, mode=\"w\")\n",
    "chunk_size = 65536\n",
    "shard_size = chunk_size * 16\n",
    "write_sharded(\n",
    "    zgroup,\n",
    "    train_data_dict,\n",
    "    chunk_size=chunk_size,\n",
    "    shard_size=shard_size,\n",
    "    compressors=None,\n",
    ")"
   ]
  },
  {
   "cell_type": "code",
   "execution_count": null,
   "id": "3ed731bd",
   "metadata": {},
   "outputs": [],
   "source": [
    "from cellflow.data import TrainSamplerWithPool, ZarrTrainingData"
   ]
  },
  {
   "cell_type": "code",
   "execution_count": 5,
   "id": "62955dea",
   "metadata": {},
   "outputs": [],
   "source": [
    "import numpy as np\n",
    "\n",
    "def calculate_memory_cost(\n",
    "    data: ZarrTrainingData,\n",
    "    src_idx: int,\n",
    "    include_condition_data: bool = True\n",
    ") -> dict[str, int | list | dict]:\n",
    "    \"\"\"Calculate memory cost in bytes for a given source index and its target distributions.\n",
    "    \n",
    "    Parameters\n",
    "    ----------\n",
    "    data\n",
    "        The training data.\n",
    "    src_idx\n",
    "        The source distribution index.\n",
    "    include_condition_data\n",
    "        Whether to include condition data in memory calculations.\n",
    "        \n",
    "    Returns\n",
    "    -------\n",
    "    Dictionary with memory statistics in bytes for the source and its targets.\n",
    "    \"\"\"\n",
    "    if src_idx not in data.control_to_perturbation:\n",
    "        raise ValueError(f\"Source index {src_idx} not found in control_to_perturbation mapping\")\n",
    "    \n",
    "    # Get target indices for this source\n",
    "    target_indices = data.control_to_perturbation[src_idx]\n",
    "    \n",
    "    # Calculate memory for source cells\n",
    "    source_mask = data.split_covariates_mask == src_idx\n",
    "    n_source_cells = np.sum(source_mask)\n",
    "    source_memory = n_source_cells * data.cell_data.shape[1] * data.cell_data.dtype.itemsize\n",
    "    \n",
    "    # Calculate memory for target cells\n",
    "    target_memories = {}\n",
    "    total_target_memory = 0\n",
    "    \n",
    "    for target_idx in target_indices:\n",
    "        target_mask = data.perturbation_covariates_mask == target_idx\n",
    "        n_target_cells = np.sum(target_mask)\n",
    "        target_memory = n_target_cells * data.cell_data.shape[1] * data.cell_data.dtype.itemsize\n",
    "        target_memories[f\"target_{target_idx}\"] = target_memory\n",
    "        total_target_memory += target_memory\n",
    "    \n",
    "    # Calculate condition data memory if available and requested\n",
    "    condition_memory = 0\n",
    "    condition_details = {}\n",
    "    if include_condition_data and data.condition_data is not None:\n",
    "        for cond_name, cond_array in data.condition_data.items():\n",
    "            # Condition data is indexed by target indices\n",
    "            relevant_condition_size = len(target_indices) * cond_array.shape[1] * cond_array.dtype.itemsize\n",
    "            condition_details[f\"condition_{cond_name}\"] = relevant_condition_size\n",
    "            condition_memory += relevant_condition_size\n",
    "    \n",
    "    # Calculate total memory\n",
    "    total_memory = source_memory + total_target_memory + condition_memory\n",
    "    \n",
    "    # Calculate average target memory\n",
    "    avg_target_memory = total_target_memory // len(target_indices) if target_indices.size > 0 else 0\n",
    "    \n",
    "    result = {\n",
    "        \"source_idx\": src_idx,\n",
    "        \"target_indices\": target_indices.tolist(),\n",
    "        \"source_memory\": source_memory,\n",
    "        \"source_cell_count\": int(n_source_cells),\n",
    "        \"total_target_memory\": total_target_memory,\n",
    "        \"avg_target_memory\": avg_target_memory,\n",
    "        \"condition_memory\": condition_memory,\n",
    "        \"total_memory\": total_memory,\n",
    "        \"target_details\": target_memories,\n",
    "    }\n",
    "    \n",
    "    if condition_details:\n",
    "        result[\"condition_details\"] = condition_details\n",
    "        \n",
    "    return result\n",
    "\n",
    "def format_memory_stats(memory_stats: dict, unit: str = \"auto\", summary: bool = False) -> str:\n",
    "    \"\"\"Format memory statistics into a human-readable string.\n",
    "    \n",
    "    Parameters\n",
    "    ----------\n",
    "    memory_stats\n",
    "        Dictionary with memory statistics from calculate_memory_cost.\n",
    "    unit\n",
    "        Memory unit to use for display. Options: 'B', 'KB', 'MB', 'GB', 'auto'.\n",
    "        If 'auto', the most appropriate unit will be chosen automatically.\n",
    "    summary\n",
    "        If True, includes a summary with average, min, and max target memory statistics\n",
    "        and omits detailed per-target breakdown.\n",
    "        \n",
    "    Returns\n",
    "    -------\n",
    "    Human-readable string representation of memory statistics.\n",
    "    \"\"\"\n",
    "    def format_bytes(bytes_value, unit=\"auto\"):\n",
    "        if unit == \"auto\":\n",
    "            # Choose appropriate unit\n",
    "            for unit in [\"B\", \"KB\", \"MB\", \"GB\"]:\n",
    "                if bytes_value < 1024 or unit == \"GB\":\n",
    "                    break\n",
    "                bytes_value /= 1024\n",
    "        elif unit == \"KB\":\n",
    "            bytes_value /= 1024\n",
    "        elif unit == \"MB\":\n",
    "            bytes_value /= (1024 * 1024)\n",
    "        elif unit == \"GB\":\n",
    "            bytes_value /= (1024 * 1024 * 1024)\n",
    "        \n",
    "        return f\"{bytes_value:.2f} {unit}\"\n",
    "    \n",
    "    src_idx = memory_stats[\"source_idx\"]\n",
    "    target_indices = memory_stats[\"target_indices\"]\n",
    "    \n",
    "    # Base information\n",
    "    lines = [\n",
    "        f\"Memory statistics for source index {src_idx} with {len(target_indices)} targets:\",\n",
    "        f\"- Source cells: {memory_stats['source_cell_count']} cells, {format_bytes(memory_stats['source_memory'], unit)}\",\n",
    "        f\"- Total memory: {format_bytes(memory_stats['total_memory'], unit)}\",\n",
    "    ]\n",
    "    \n",
    "    # Calculate min and max target memory if summary is requested\n",
    "    if summary and memory_stats[\"target_details\"]:\n",
    "        target_memories = list(memory_stats[\"target_details\"].values())\n",
    "        min_target = min(target_memories)\n",
    "        max_target = max(target_memories)\n",
    "        \n",
    "        lines.extend([\n",
    "            \"\\nTarget memory summary:\",\n",
    "            f\"- Total: {format_bytes(memory_stats['total_target_memory'], unit)}\",\n",
    "            f\"- Average: {format_bytes(memory_stats['avg_target_memory'], unit)}\",\n",
    "            f\"- Min: {format_bytes(min_target, unit)}\",\n",
    "            f\"- Max: {format_bytes(max_target, unit)}\",\n",
    "            f\"- Range: {format_bytes(max_target - min_target, unit)}\"\n",
    "        ])\n",
    "        \n",
    "        # Add condition memory summary if available\n",
    "        if memory_stats[\"condition_memory\"] > 0:\n",
    "            lines.append(f\"\\nCondition memory: {format_bytes(memory_stats['condition_memory'], unit)}\")\n",
    "    else:\n",
    "        # Detailed output (original format)\n",
    "        lines.extend([\n",
    "            f\"- Target memory: {format_bytes(memory_stats['total_target_memory'], unit)} total, {format_bytes(memory_stats['avg_target_memory'], unit)} average per target\",\n",
    "            f\"- Condition memory: {format_bytes(memory_stats['condition_memory'], unit)}\",\n",
    "            \"\\nTarget details:\"\n",
    "        ])\n",
    "        \n",
    "        for target_key, target_memory in memory_stats[\"target_details\"].items():\n",
    "            target_id = target_key.split(\"_\")[1]\n",
    "            lines.append(f\"  - Target {target_id}: {format_bytes(target_memory, unit)}\")\n",
    "        \n",
    "        if \"condition_details\" in memory_stats:\n",
    "            lines.append(\"\\nCondition details:\")\n",
    "            for cond_key, cond_memory in memory_stats[\"condition_details\"].items():\n",
    "                cond_name = cond_key.split(\"_\", 1)[1]\n",
    "                lines.append(f\"  - {cond_name}: {format_bytes(cond_memory, unit)}\")\n",
    "    \n",
    "    return \"\\n\".join(lines)"
   ]
  },
  {
   "cell_type": "code",
   "execution_count": 3,
   "id": "316e3a6a",
   "metadata": {},
   "outputs": [],
   "source": [
    "ztd = ZarrTrainingData.read_zarr(data_paths[0])\n",
    "\n"
   ]
  },
  {
   "cell_type": "code",
   "execution_count": 7,
   "id": "3d101216",
   "metadata": {},
   "outputs": [],
   "source": [
    "stats = calculate_memory_cost(ztd, 0)"
   ]
  },
  {
   "cell_type": "code",
   "execution_count": 8,
   "id": "a79f9fc2",
   "metadata": {},
   "outputs": [
    {
     "name": "stdout",
     "output_type": "stream",
     "text": [
      "Memory statistics for source index 0 with 194 targets:\n",
      "- Source cells: 60135 cells, 68.82 MB\n",
      "- Total memory: 548.11 MB\n",
      "\n",
      "Target memory summary:\n",
      "- Total: 479.28 MB\n",
      "- Average: 2.47 MB\n",
      "- Min: 44.53 KB\n",
      "- Max: 6.35 MB\n",
      "- Range: 6.31 MB\n",
      "\n",
      "Condition memory: 4.55 KB\n"
     ]
    }
   ],
   "source": [
    "print(format_memory_stats(stats, summary=True))"
   ]
  },
  {
   "cell_type": "code",
   "execution_count": 13,
   "id": "8c400080",
   "metadata": {},
   "outputs": [],
   "source": [
    "ztd_stats = {}\n",
    "for i in range(ztd.n_controls):\n",
    "    ztd_stats[i] = calculate_memory_cost(ztd, i)\n"
   ]
  },
  {
   "cell_type": "code",
   "execution_count": 16,
   "id": "710fb69d",
   "metadata": {},
   "outputs": [],
   "source": [
    "def print_average_memory_per_source(stats_dict):\n",
    "    \"\"\"Print the average total memory per source index.\n",
    "    \n",
    "    Parameters\n",
    "    ----------\n",
    "    stats_dict\n",
    "        Optional pre-calculated memory statistics dictionary.\n",
    "        If None, statistics will be calculated for all source indices.\n",
    "    \"\"\"\n",
    "    \n",
    "    \n",
    "    # Extract total memory for each source index\n",
    "    total_memories = [stats[\"total_memory\"] for stats in stats_dict.values()]\n",
    "    \n",
    "    # Calculate statistics\n",
    "    avg_memory = np.mean(total_memories)\n",
    "    min_memory = np.min(total_memories)\n",
    "    max_memory = np.max(total_memories)\n",
    "    median_memory = np.median(total_memories)\n",
    "    \n",
    "    # Format the output\n",
    "    def format_bytes(bytes_value):\n",
    "        for unit in [\"B\", \"KB\", \"MB\", \"GB\"]:\n",
    "            if bytes_value < 1024 or unit == \"GB\":\n",
    "                break\n",
    "            bytes_value /= 1024\n",
    "        return f\"{bytes_value:.2f} {unit}\"\n",
    "    \n",
    "    print(f\"Memory statistics across {len(stats_dict)} source indices:\")\n",
    "    print(f\"- Average total memory per source: {format_bytes(avg_memory)}\")\n",
    "    print(f\"- Minimum total memory: {format_bytes(min_memory)}\")\n",
    "    print(f\"- Maximum total memory: {format_bytes(max_memory)}\")\n",
    "    print(f\"- Median total memory: {format_bytes(median_memory)}\")\n",
    "    print(f\"- Range: {format_bytes(max_memory - min_memory)}\")\n",
    "    \n",
    "    # Identify source indices with min and max memory\n",
    "    min_idx = min(stats_dict.keys(), key=lambda k: stats_dict[k][\"total_memory\"])\n",
    "    max_idx = max(stats_dict.keys(), key=lambda k: stats_dict[k][\"total_memory\"])\n",
    "    \n",
    "    print(f\"\\nSource index with minimum memory: {min_idx} ({format_bytes(min_memory)})\")\n",
    "    print(f\"Source index with maximum memory: {max_idx} ({format_bytes(max_memory)})\")"
   ]
  },
  {
   "cell_type": "code",
   "execution_count": 59,
   "id": "e2f8f809",
   "metadata": {},
   "outputs": [
    {
     "name": "stdout",
     "output_type": "stream",
     "text": [
      "Memory statistics across 50 source indices:\n",
      "- Average total memory per source: 423.18 MB\n",
      "- Minimum total memory: 4.33 MB\n",
      "- Maximum total memory: 1.29 GB\n",
      "- Median total memory: 404.51 MB\n",
      "- Range: 1.28 GB\n",
      "\n",
      "Source index with minimum memory: 39 (4.33 MB)\n",
      "Source index with maximum memory: 22 (1.29 GB)\n"
     ]
    }
   ],
   "source": [
    "print_average_memory_per_source(ztd_stats)"
   ]
  },
  {
   "cell_type": "code",
   "execution_count": 11,
   "id": "91207483",
   "metadata": {},
   "outputs": [],
   "source": [
    "from cellflow.data import TrainSamplerWithPool\n",
    "import numpy as np\n",
    "rng = np.random.default_rng(0)"
   ]
  },
  {
   "cell_type": "code",
   "execution_count": 13,
   "id": "17f1fc6c",
   "metadata": {},
   "outputs": [
    {
     "name": "stderr",
     "output_type": "stream",
     "text": [
      "Computing target to cell data idcs: 100%|██████████| 9980/9980 [00:11<00:00, 891.95it/s] \n",
      "Computing source to cell data idcs: 100%|██████████| 50/50 [00:00<00:00, 1232.06it/s]\n"
     ]
    }
   ],
   "source": [
    "tswp = TrainSamplerWithPool(ztd, batch_size=1024, pool_size=20, replacement_prob=0.01)\n",
    "tswp.init_pool_n_cache(rng)"
   ]
  },
  {
   "cell_type": "code",
   "execution_count": null,
   "id": "782380b2",
   "metadata": {},
   "outputs": [],
   "source": []
  },
  {
   "cell_type": "code",
   "execution_count": null,
   "id": "81017ffd",
   "metadata": {},
   "outputs": [
    {
     "name": "stdout",
     "output_type": "stream",
     "text": [
      "replaced 47 with 34\n",
      "replaced 32 with 30\n"
     ]
    }
   ],
   "source": [
    "import time\n",
    "iter_times = []\n",
    "rng = np.random.default_rng(0)\n",
    "start_time = time.time()\n",
    "for iter in range(40):\n",
    "    batch = tswp.sample(rng)\n",
    "    end_time = time.time()\n",
    "    iter_times.append(end_time - start_time)\n",
    "    start_time = end_time\n",
    "\n",
    "print(\"average time per iteration: \", np.mean(iter_times))\n",
    "print(\"iterations per second: \", 1 / np.mean(iter_times))\n"
   ]
  },
  {
   "cell_type": "code",
   "execution_count": 64,
   "id": "001e842a",
   "metadata": {},
   "outputs": [
    {
     "data": {
      "text/plain": [
       "{'pool_size': 20,\n",
       " 'avg_usage': 1.95,\n",
       " 'unique_sources': 20,\n",
       " 'pool_elements': array([31, 18, 47, 34, 12, 35, 29, 23, 32, 14,  6, 41, 25,  3,  1, 49, 24,\n",
       "        10, 46, 33]),\n",
       " 'usage_counts': array([2, 2, 3, 2, 1, 0, 2, 2, 2, 0, 3, 1, 2, 0, 3, 3, 2, 6, 1, 2])}"
      ]
     },
     "execution_count": 64,
     "metadata": {},
     "output_type": "execute_result"
    }
   ],
   "source": [
    "tswp.get_pool_stats()"
   ]
  },
  {
   "cell_type": "code",
   "execution_count": null,
   "id": "f07c55d9",
   "metadata": {},
   "outputs": [],
   "source": []
  }
 ],
 "metadata": {
  "kernelspec": {
   "display_name": "Python 3",
   "language": "python",
   "name": "python3"
  },
  "language_info": {
   "codemirror_mode": {
    "name": "ipython",
    "version": 3
   },
   "file_extension": ".py",
   "mimetype": "text/x-python",
   "name": "python",
   "nbconvert_exporter": "python",
   "pygments_lexer": "ipython3",
   "version": "3.12.11"
  }
 },
 "nbformat": 4,
 "nbformat_minor": 5
}
