{
 "cells": [
  {
   "cell_type": "code",
   "execution_count": 21,
   "id": "5765bb6c",
   "metadata": {},
   "outputs": [
    {
     "name": "stdout",
     "output_type": "stream",
     "text": [
      "The autoreload extension is already loaded. To reload it, use:\n",
      "  %reload_ext autoreload\n"
     ]
    }
   ],
   "source": [
    "%load_ext autoreload\n",
    "%autoreload 2\n",
    "\n",
    "from cellflow.data import MappedCellData"
   ]
  },
  {
   "cell_type": "code",
   "execution_count": 2,
   "id": "5e77bb94",
   "metadata": {},
   "outputs": [],
   "source": [
    "from pathlib import Path\n",
    "\n",
    "data_path = Path(\"/lustre/groups/ml01/workspace/100mil/tahoe.zarr\")"
   ]
  },
  {
   "cell_type": "code",
   "execution_count": 25,
   "id": "cb38a3f8",
   "metadata": {},
   "outputs": [],
   "source": [
    "mcd = MappedCellData.read_zarr(data_path)"
   ]
  },
  {
   "cell_type": "code",
   "execution_count": 27,
   "id": "675044bc",
   "metadata": {},
   "outputs": [
    {
     "data": {
      "text/plain": [
       "{0: <Array file:///lustre/groups/ml01/workspace/100mil/tahoe.zarr/src_cell_data/0 shape=(60135, 300) dtype=float32>,\n",
       " 1: <Array file:///lustre/groups/ml01/workspace/100mil/tahoe.zarr/src_cell_data/1 shape=(13778, 300) dtype=float32>,\n",
       " 10: <Array file:///lustre/groups/ml01/workspace/100mil/tahoe.zarr/src_cell_data/10 shape=(50552, 300) dtype=float32>,\n",
       " 11: <Array file:///lustre/groups/ml01/workspace/100mil/tahoe.zarr/src_cell_data/11 shape=(39854, 300) dtype=float32>,\n",
       " 12: <Array file:///lustre/groups/ml01/workspace/100mil/tahoe.zarr/src_cell_data/12 shape=(55202, 300) dtype=float32>,\n",
       " 13: <Array file:///lustre/groups/ml01/workspace/100mil/tahoe.zarr/src_cell_data/13 shape=(56439, 300) dtype=float32>,\n",
       " 14: <Array file:///lustre/groups/ml01/workspace/100mil/tahoe.zarr/src_cell_data/14 shape=(36803, 300) dtype=float32>,\n",
       " 15: <Array file:///lustre/groups/ml01/workspace/100mil/tahoe.zarr/src_cell_data/15 shape=(51949, 300) dtype=float32>,\n",
       " 16: <Array file:///lustre/groups/ml01/workspace/100mil/tahoe.zarr/src_cell_data/16 shape=(41614, 300) dtype=float32>,\n",
       " 17: <Array file:///lustre/groups/ml01/workspace/100mil/tahoe.zarr/src_cell_data/17 shape=(67833, 300) dtype=float32>,\n",
       " 18: <Array file:///lustre/groups/ml01/workspace/100mil/tahoe.zarr/src_cell_data/18 shape=(56383, 300) dtype=float32>,\n",
       " 19: <Array file:///lustre/groups/ml01/workspace/100mil/tahoe.zarr/src_cell_data/19 shape=(126345, 300) dtype=float32>,\n",
       " 2: <Array file:///lustre/groups/ml01/workspace/100mil/tahoe.zarr/src_cell_data/2 shape=(35843, 300) dtype=float32>,\n",
       " 20: <Array file:///lustre/groups/ml01/workspace/100mil/tahoe.zarr/src_cell_data/20 shape=(95259, 300) dtype=float32>,\n",
       " 21: <Array file:///lustre/groups/ml01/workspace/100mil/tahoe.zarr/src_cell_data/21 shape=(54386, 300) dtype=float32>,\n",
       " 22: <Array file:///lustre/groups/ml01/workspace/100mil/tahoe.zarr/src_cell_data/22 shape=(139224, 300) dtype=float32>,\n",
       " 23: <Array file:///lustre/groups/ml01/workspace/100mil/tahoe.zarr/src_cell_data/23 shape=(35415, 300) dtype=float32>,\n",
       " 24: <Array file:///lustre/groups/ml01/workspace/100mil/tahoe.zarr/src_cell_data/24 shape=(64417, 300) dtype=float32>,\n",
       " 25: <Array file:///lustre/groups/ml01/workspace/100mil/tahoe.zarr/src_cell_data/25 shape=(34685, 300) dtype=float32>,\n",
       " 26: <Array file:///lustre/groups/ml01/workspace/100mil/tahoe.zarr/src_cell_data/26 shape=(49119, 300) dtype=float32>,\n",
       " 27: <Array file:///lustre/groups/ml01/workspace/100mil/tahoe.zarr/src_cell_data/27 shape=(29046, 300) dtype=float32>,\n",
       " 28: <Array file:///lustre/groups/ml01/workspace/100mil/tahoe.zarr/src_cell_data/28 shape=(51178, 300) dtype=float32>,\n",
       " 29: <Array file:///lustre/groups/ml01/workspace/100mil/tahoe.zarr/src_cell_data/29 shape=(11219, 300) dtype=float32>,\n",
       " 3: <Array file:///lustre/groups/ml01/workspace/100mil/tahoe.zarr/src_cell_data/3 shape=(29414, 300) dtype=float32>,\n",
       " 30: <Array file:///lustre/groups/ml01/workspace/100mil/tahoe.zarr/src_cell_data/30 shape=(24306, 300) dtype=float32>,\n",
       " 31: <Array file:///lustre/groups/ml01/workspace/100mil/tahoe.zarr/src_cell_data/31 shape=(75431, 300) dtype=float32>,\n",
       " 32: <Array file:///lustre/groups/ml01/workspace/100mil/tahoe.zarr/src_cell_data/32 shape=(52427, 300) dtype=float32>,\n",
       " 33: <Array file:///lustre/groups/ml01/workspace/100mil/tahoe.zarr/src_cell_data/33 shape=(46867, 300) dtype=float32>,\n",
       " 34: <Array file:///lustre/groups/ml01/workspace/100mil/tahoe.zarr/src_cell_data/34 shape=(42864, 300) dtype=float32>,\n",
       " 35: <Array file:///lustre/groups/ml01/workspace/100mil/tahoe.zarr/src_cell_data/35 shape=(46472, 300) dtype=float32>,\n",
       " 36: <Array file:///lustre/groups/ml01/workspace/100mil/tahoe.zarr/src_cell_data/36 shape=(610, 300) dtype=float32>,\n",
       " 37: <Array file:///lustre/groups/ml01/workspace/100mil/tahoe.zarr/src_cell_data/37 shape=(43557, 300) dtype=float32>,\n",
       " 38: <Array file:///lustre/groups/ml01/workspace/100mil/tahoe.zarr/src_cell_data/38 shape=(48845, 300) dtype=float32>,\n",
       " 39: <Array file:///lustre/groups/ml01/workspace/100mil/tahoe.zarr/src_cell_data/39 shape=(345, 300) dtype=float32>,\n",
       " 4: <Array file:///lustre/groups/ml01/workspace/100mil/tahoe.zarr/src_cell_data/4 shape=(56447, 300) dtype=float32>,\n",
       " 40: <Array file:///lustre/groups/ml01/workspace/100mil/tahoe.zarr/src_cell_data/40 shape=(3206, 300) dtype=float32>,\n",
       " 41: <Array file:///lustre/groups/ml01/workspace/100mil/tahoe.zarr/src_cell_data/41 shape=(37487, 300) dtype=float32>,\n",
       " 42: <Array file:///lustre/groups/ml01/workspace/100mil/tahoe.zarr/src_cell_data/42 shape=(36612, 300) dtype=float32>,\n",
       " 43: <Array file:///lustre/groups/ml01/workspace/100mil/tahoe.zarr/src_cell_data/43 shape=(50344, 300) dtype=float32>,\n",
       " 44: <Array file:///lustre/groups/ml01/workspace/100mil/tahoe.zarr/src_cell_data/44 shape=(3254, 300) dtype=float32>,\n",
       " 45: <Array file:///lustre/groups/ml01/workspace/100mil/tahoe.zarr/src_cell_data/45 shape=(4940, 300) dtype=float32>,\n",
       " 46: <Array file:///lustre/groups/ml01/workspace/100mil/tahoe.zarr/src_cell_data/46 shape=(43500, 300) dtype=float32>,\n",
       " 47: <Array file:///lustre/groups/ml01/workspace/100mil/tahoe.zarr/src_cell_data/47 shape=(22444, 300) dtype=float32>,\n",
       " 48: <Array file:///lustre/groups/ml01/workspace/100mil/tahoe.zarr/src_cell_data/48 shape=(38161, 300) dtype=float32>,\n",
       " 49: <Array file:///lustre/groups/ml01/workspace/100mil/tahoe.zarr/src_cell_data/49 shape=(38420, 300) dtype=float32>,\n",
       " 5: <Array file:///lustre/groups/ml01/workspace/100mil/tahoe.zarr/src_cell_data/5 shape=(51407, 300) dtype=float32>,\n",
       " 6: <Array file:///lustre/groups/ml01/workspace/100mil/tahoe.zarr/src_cell_data/6 shape=(31009, 300) dtype=float32>,\n",
       " 7: <Array file:///lustre/groups/ml01/workspace/100mil/tahoe.zarr/src_cell_data/7 shape=(32353, 300) dtype=float32>,\n",
       " 8: <Array file:///lustre/groups/ml01/workspace/100mil/tahoe.zarr/src_cell_data/8 shape=(34053, 300) dtype=float32>,\n",
       " 9: <Array file:///lustre/groups/ml01/workspace/100mil/tahoe.zarr/src_cell_data/9 shape=(54333, 300) dtype=float32>}"
      ]
     },
     "execution_count": 27,
     "metadata": {},
     "output_type": "execute_result"
    }
   ],
   "source": [
    "mcd.src_cell_data"
   ]
  },
  {
   "cell_type": "code",
   "execution_count": 28,
   "id": "33793ea8",
   "metadata": {},
   "outputs": [],
   "source": [
    "from cellflow.data import ReservoirSampler"
   ]
  },
  {
   "cell_type": "code",
   "execution_count": null,
   "id": "05bd4946",
   "metadata": {},
   "outputs": [],
   "source": [
    "rs = ReservoirSampler(mcd, batch_size=1024, pool_size=3, replacement_prob=0.01)\n"
   ]
  },
  {
   "cell_type": "code",
   "execution_count": null,
   "id": "b40a9520",
   "metadata": {},
   "outputs": [],
   "source": [
    "import numpy as np\n",
    "rng = np.random.default_rng(0)\n",
    "rs.init_pool(rng)\n"
   ]
  },
  {
   "cell_type": "code",
   "execution_count": 40,
   "id": "799aad1f",
   "metadata": {},
   "outputs": [
    {
     "ename": "KeyError",
     "evalue": "np.int64(37)",
     "output_type": "error",
     "traceback": [
      "\u001b[31m---------------------------------------------------------------------------\u001b[39m",
      "\u001b[31mKeyError\u001b[39m                                  Traceback (most recent call last)",
      "\u001b[36mCell\u001b[39m\u001b[36m \u001b[39m\u001b[32mIn[40]\u001b[39m\u001b[32m, line 6\u001b[39m\n\u001b[32m      4\u001b[39m start_time = time.time()\n\u001b[32m      5\u001b[39m \u001b[38;5;28;01mfor\u001b[39;00m \u001b[38;5;28miter\u001b[39m \u001b[38;5;129;01min\u001b[39;00m \u001b[38;5;28mrange\u001b[39m(\u001b[32m40\u001b[39m):\n\u001b[32m----> \u001b[39m\u001b[32m6\u001b[39m     batch = \u001b[43mrs\u001b[49m\u001b[43m.\u001b[49m\u001b[43msample\u001b[49m\u001b[43m(\u001b[49m\u001b[43mrng\u001b[49m\u001b[43m)\u001b[49m\n\u001b[32m      7\u001b[39m     end_time = time.time()\n\u001b[32m      8\u001b[39m     iter_times.append(end_time - start_time)\n",
      "\u001b[36mFile \u001b[39m\u001b[32m/ictstr01/home/icb/selman.ozleyen/projects/CellFlow2/src/cellflow/data/_dataloader.py:114\u001b[39m, in \u001b[36msample\u001b[39m\u001b[34m(self, rng)\u001b[39m\n\u001b[32m    111\u001b[39m target_dist_idx = \u001b[38;5;28mself\u001b[39m._sample_target_dist_idx(rng, source_dist_idx)\n\u001b[32m    113\u001b[39m \u001b[38;5;66;03m# Sample source and target cells\u001b[39;00m\n\u001b[32m--> \u001b[39m\u001b[32m114\u001b[39m source_batch = \u001b[38;5;28mself\u001b[39m._sample_source_cells(rng, source_dist_idx)\n\u001b[32m    115\u001b[39m target_batch = \u001b[38;5;28mself\u001b[39m._sample_target_cells(rng, source_dist_idx, target_dist_idx)\n\u001b[32m    117\u001b[39m res = {\u001b[33m\"\u001b[39m\u001b[33msrc_cell_data\u001b[39m\u001b[33m\"\u001b[39m: source_batch, \u001b[33m\"\u001b[39m\u001b[33mtgt_cell_data\u001b[39m\u001b[33m\"\u001b[39m: target_batch}\n",
      "\u001b[36mFile \u001b[39m\u001b[32m/ictstr01/home/icb/selman.ozleyen/projects/CellFlow2/src/cellflow/data/_dataloader.py:303\u001b[39m, in \u001b[36m_sample_target_cells\u001b[39m\u001b[34m(self, rng, source_dist_idx, target_dist_idx)\u001b[39m\n\u001b[32m    296\u001b[39m \u001b[38;5;28mself\u001b[39m.perturbation_to_control = \u001b[38;5;28mself\u001b[39m._get_perturbation_to_control(val_data)\n\u001b[32m    297\u001b[39m \u001b[38;5;28mself\u001b[39m.n_conditions_on_log_iteration = (\n\u001b[32m    298\u001b[39m     val_data.n_conditions_on_log_iteration\n\u001b[32m    299\u001b[39m     \u001b[38;5;28;01mif\u001b[39;00m val_data.n_conditions_on_log_iteration \u001b[38;5;129;01mis\u001b[39;00m \u001b[38;5;129;01mnot\u001b[39;00m \u001b[38;5;28;01mNone\u001b[39;00m\n\u001b[32m    300\u001b[39m     \u001b[38;5;28;01melse\u001b[39;00m val_data.n_perturbations\n\u001b[32m    301\u001b[39m )\n\u001b[32m    302\u001b[39m \u001b[38;5;28mself\u001b[39m.n_conditions_on_train_end = (\n\u001b[32m--> \u001b[39m\u001b[32m303\u001b[39m     val_data.n_conditions_on_train_end\n\u001b[32m    304\u001b[39m     \u001b[38;5;28;01mif\u001b[39;00m val_data.n_conditions_on_train_end \u001b[38;5;129;01mis\u001b[39;00m \u001b[38;5;129;01mnot\u001b[39;00m \u001b[38;5;28;01mNone\u001b[39;00m\n\u001b[32m    305\u001b[39m     \u001b[38;5;28;01melse\u001b[39;00m val_data.n_perturbations\n\u001b[32m    306\u001b[39m )\n\u001b[32m    307\u001b[39m \u001b[38;5;28mself\u001b[39m.rng = np.random.default_rng(seed)\n\u001b[32m    308\u001b[39m \u001b[38;5;28;01mif\u001b[39;00m \u001b[38;5;28mself\u001b[39m._data.condition_data \u001b[38;5;129;01mis\u001b[39;00m \u001b[38;5;28;01mNone\u001b[39;00m:\n",
      "\u001b[31mKeyError\u001b[39m: np.int64(37)"
     ]
    }
   ],
   "source": [
    "import time\n",
    "iter_times = []\n",
    "rng = np.random.default_rng(0)\n",
    "start_time = time.time()\n",
    "for iter in range(40):\n",
    "    batch = rs.sample(rng)\n",
    "    end_time = time.time()\n",
    "    iter_times.append(end_time - start_time)\n",
    "    start_time = end_time\n",
    "\n",
    "print(\"average time per iteration: \", np.mean(iter_times))\n",
    "print(\"iterations per second: \", 1 / np.mean(iter_times))\n"
   ]
  },
  {
   "cell_type": "code",
   "execution_count": 3,
   "id": "316e3a6a",
   "metadata": {},
   "outputs": [],
   "source": [
    "ztd = ZarrTrainingData.read_zarr(data_paths[0])\n",
    "\n"
   ]
  },
  {
   "cell_type": "code",
   "execution_count": 7,
   "id": "3d101216",
   "metadata": {},
   "outputs": [],
   "source": [
    "stats = calculate_memory_cost(ztd, 0)"
   ]
  },
  {
   "cell_type": "code",
   "execution_count": 8,
   "id": "a79f9fc2",
   "metadata": {},
   "outputs": [
    {
     "name": "stdout",
     "output_type": "stream",
     "text": [
      "Memory statistics for source index 0 with 194 targets:\n",
      "- Source cells: 60135 cells, 68.82 MB\n",
      "- Total memory: 548.11 MB\n",
      "\n",
      "Target memory summary:\n",
      "- Total: 479.28 MB\n",
      "- Average: 2.47 MB\n",
      "- Min: 44.53 KB\n",
      "- Max: 6.35 MB\n",
      "- Range: 6.31 MB\n",
      "\n",
      "Condition memory: 4.55 KB\n"
     ]
    }
   ],
   "source": [
    "print(format_memory_stats(stats, summary=True))"
   ]
  },
  {
   "cell_type": "code",
   "execution_count": 13,
   "id": "8c400080",
   "metadata": {},
   "outputs": [],
   "source": [
    "ztd_stats = {}\n",
    "for i in range(ztd.n_controls):\n",
    "    ztd_stats[i] = calculate_memory_cost(ztd, i)\n"
   ]
  },
  {
   "cell_type": "code",
   "execution_count": 16,
   "id": "710fb69d",
   "metadata": {},
   "outputs": [],
   "source": [
    "def print_average_memory_per_source(stats_dict):\n",
    "    \"\"\"Print the average total memory per source index.\n",
    "    \n",
    "    Parameters\n",
    "    ----------\n",
    "    stats_dict\n",
    "        Optional pre-calculated memory statistics dictionary.\n",
    "        If None, statistics will be calculated for all source indices.\n",
    "    \"\"\"\n",
    "    \n",
    "    \n",
    "    # Extract total memory for each source index\n",
    "    total_memories = [stats[\"total_memory\"] for stats in stats_dict.values()]\n",
    "    \n",
    "    # Calculate statistics\n",
    "    avg_memory = np.mean(total_memories)\n",
    "    min_memory = np.min(total_memories)\n",
    "    max_memory = np.max(total_memories)\n",
    "    median_memory = np.median(total_memories)\n",
    "    \n",
    "    # Format the output\n",
    "    def format_bytes(bytes_value):\n",
    "        for unit in [\"B\", \"KB\", \"MB\", \"GB\"]:\n",
    "            if bytes_value < 1024 or unit == \"GB\":\n",
    "                break\n",
    "            bytes_value /= 1024\n",
    "        return f\"{bytes_value:.2f} {unit}\"\n",
    "    \n",
    "    print(f\"Memory statistics across {len(stats_dict)} source indices:\")\n",
    "    print(f\"- Average total memory per source: {format_bytes(avg_memory)}\")\n",
    "    print(f\"- Minimum total memory: {format_bytes(min_memory)}\")\n",
    "    print(f\"- Maximum total memory: {format_bytes(max_memory)}\")\n",
    "    print(f\"- Median total memory: {format_bytes(median_memory)}\")\n",
    "    print(f\"- Range: {format_bytes(max_memory - min_memory)}\")\n",
    "    \n",
    "    # Identify source indices with min and max memory\n",
    "    min_idx = min(stats_dict.keys(), key=lambda k: stats_dict[k][\"total_memory\"])\n",
    "    max_idx = max(stats_dict.keys(), key=lambda k: stats_dict[k][\"total_memory\"])\n",
    "    \n",
    "    print(f\"\\nSource index with minimum memory: {min_idx} ({format_bytes(min_memory)})\")\n",
    "    print(f\"Source index with maximum memory: {max_idx} ({format_bytes(max_memory)})\")"
   ]
  },
  {
   "cell_type": "code",
   "execution_count": 59,
   "id": "e2f8f809",
   "metadata": {},
   "outputs": [
    {
     "name": "stdout",
     "output_type": "stream",
     "text": [
      "Memory statistics across 50 source indices:\n",
      "- Average total memory per source: 423.18 MB\n",
      "- Minimum total memory: 4.33 MB\n",
      "- Maximum total memory: 1.29 GB\n",
      "- Median total memory: 404.51 MB\n",
      "- Range: 1.28 GB\n",
      "\n",
      "Source index with minimum memory: 39 (4.33 MB)\n",
      "Source index with maximum memory: 22 (1.29 GB)\n"
     ]
    }
   ],
   "source": [
    "print_average_memory_per_source(ztd_stats)"
   ]
  },
  {
   "cell_type": "code",
   "execution_count": 11,
   "id": "91207483",
   "metadata": {},
   "outputs": [],
   "source": [
    "from cellflow.data import TrainSamplerWithPool\n",
    "import numpy as np\n",
    "rng = np.random.default_rng(0)"
   ]
  },
  {
   "cell_type": "code",
   "execution_count": 13,
   "id": "17f1fc6c",
   "metadata": {},
   "outputs": [
    {
     "name": "stderr",
     "output_type": "stream",
     "text": [
      "Computing target to cell data idcs: 100%|██████████| 9980/9980 [00:11<00:00, 891.95it/s] \n",
      "Computing source to cell data idcs: 100%|██████████| 50/50 [00:00<00:00, 1232.06it/s]\n"
     ]
    }
   ],
   "source": [
    "tswp = TrainSamplerWithPool(ztd, batch_size=1024, pool_size=20, replacement_prob=0.01)\n",
    "tswp.init_pool_n_cache(rng)"
   ]
  },
  {
   "cell_type": "code",
   "execution_count": null,
   "id": "782380b2",
   "metadata": {},
   "outputs": [],
   "source": []
  },
  {
   "cell_type": "code",
   "execution_count": null,
   "id": "81017ffd",
   "metadata": {},
   "outputs": [
    {
     "name": "stdout",
     "output_type": "stream",
     "text": [
      "replaced 47 with 34\n",
      "replaced 32 with 30\n"
     ]
    }
   ],
   "source": [
    "import time\n",
    "iter_times = []\n",
    "rng = np.random.default_rng(0)\n",
    "start_time = time.time()\n",
    "for iter in range(40):\n",
    "    batch = tswp.sample(rng)\n",
    "    end_time = time.time()\n",
    "    iter_times.append(end_time - start_time)\n",
    "    start_time = end_time\n",
    "\n",
    "print(\"average time per iteration: \", np.mean(iter_times))\n",
    "print(\"iterations per second: \", 1 / np.mean(iter_times))\n"
   ]
  },
  {
   "cell_type": "markdown",
   "id": "fe14be13",
   "metadata": {},
   "source": []
  },
  {
   "cell_type": "code",
   "execution_count": 64,
   "id": "001e842a",
   "metadata": {},
   "outputs": [
    {
     "data": {
      "text/plain": [
       "{'pool_size': 20,\n",
       " 'avg_usage': 1.95,\n",
       " 'unique_sources': 20,\n",
       " 'pool_elements': array([31, 18, 47, 34, 12, 35, 29, 23, 32, 14,  6, 41, 25,  3,  1, 49, 24,\n",
       "        10, 46, 33]),\n",
       " 'usage_counts': array([2, 2, 3, 2, 1, 0, 2, 2, 2, 0, 3, 1, 2, 0, 3, 3, 2, 6, 1, 2])}"
      ]
     },
     "execution_count": 64,
     "metadata": {},
     "output_type": "execute_result"
    }
   ],
   "source": [
    "tswp.get_pool_stats()"
   ]
  },
  {
   "cell_type": "code",
   "execution_count": null,
   "id": "f07c55d9",
   "metadata": {},
   "outputs": [],
   "source": []
  }
 ],
 "metadata": {
  "kernelspec": {
   "display_name": "Python 3",
   "language": "python",
   "name": "python3"
  },
  "language_info": {
   "codemirror_mode": {
    "name": "ipython",
    "version": 3
   },
   "file_extension": ".py",
   "mimetype": "text/x-python",
   "name": "python",
   "nbconvert_exporter": "python",
   "pygments_lexer": "ipython3",
   "version": "3.12.11"
  }
 },
 "nbformat": 4,
 "nbformat_minor": 5
}
