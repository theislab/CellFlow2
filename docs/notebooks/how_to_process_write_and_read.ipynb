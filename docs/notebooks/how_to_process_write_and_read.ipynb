{
 "cells": [
  {
   "cell_type": "code",
   "execution_count": 1,
   "id": "69234172",
   "metadata": {},
   "outputs": [],
   "source": [
    "%load_ext autoreload\n",
    "%autoreload 2"
   ]
  },
  {
   "cell_type": "code",
   "execution_count": 3,
   "id": "40dedabc",
   "metadata": {},
   "outputs": [],
   "source": [
    "from scaleflow.data._datamanager_new import DataManager\n",
    "from scaleflow.data._anndata_location import AnnDataLocation\n",
    "from scaleflow.data._data import GroupedDistribution\n",
    "from pathlib import Path\n",
    "import anndata as ad\n",
    "import h5py\n",
    "from anndata.experimental import read_lazy"
   ]
  },
  {
   "cell_type": "code",
   "execution_count": 4,
   "id": "27b7cf4c",
   "metadata": {},
   "outputs": [],
   "source": [
    "DATA_PATH = Path(\"/lustre/groups/ml01/projects/big_perturbation/datasets/nadig_jurkat.h5ad\")\n",
    "OUTPUT_PATH = Path(\"/lustre/groups/ml01/workspace/100mil/nadig_jurkat.zarr\")"
   ]
  },
  {
   "cell_type": "code",
   "execution_count": 5,
   "id": "0c74bba4",
   "metadata": {},
   "outputs": [],
   "source": [
    "with h5py.File(DATA_PATH, \"r\") as f:\n",
    "    adata = ad.AnnData(\n",
    "        obs=ad.io.read_elem(f[\"obs\"]),\n",
    "        obsm=read_lazy(f[\"obsm\"]),\n",
    "        uns=ad.io.read_elem(f[\"uns\"]),\n",
    "    )\n",
    "\n",
    "# preparing data to be compatible with DataManager\n",
    "dum = adata.uns['gene_embeddings']['AAAS']\n",
    "missing_genes = set(adata.obs['pert_target'].unique()) - set(adata.uns['gene_embeddings'].keys())\n",
    "for gene in missing_genes:\n",
    "    adata.uns['gene_embeddings'][gene] = dum\n",
    "adata.obs['control'] = (adata.obs['nperts'] == 0)\n"
   ]
  },
  {
   "cell_type": "code",
   "execution_count": 6,
   "id": "226d42ec",
   "metadata": {},
   "outputs": [],
   "source": [
    "adl = AnnDataLocation()\n",
    "dm = DataManager(\n",
    "    dist_flag_key=\"control\",\n",
    "    src_dist_keys=[\"cell_line\"],\n",
    "    tgt_dist_keys=[\"pert_target\"],\n",
    "    rep_keys={\n",
    "        'cell_line': 'cell_line_embeddings',\n",
    "        'pert_target': 'gene_embeddings',\n",
    "    },\n",
    "    data_location=adl.obsm['X_pca'][:,:50],\n",
    ")\n",
    "gd = dm.prepare_data(\n",
    "    adata=adata,\n",
    ")"
   ]
  },
  {
   "cell_type": "code",
   "execution_count": 7,
   "id": "9586897e",
   "metadata": {},
   "outputs": [],
   "source": [
    "chunk_size = 131072\n",
    "shard_size = chunk_size * 8"
   ]
  },
  {
   "cell_type": "code",
   "execution_count": 8,
   "id": "884a779a",
   "metadata": {},
   "outputs": [
    {
     "name": "stderr",
     "output_type": "stream",
     "text": [
      "Writing /data/src_data: 100%|██████████| 1/1 [00:00<00:00, 76.75it/s]\n",
      "Writing /data/tgt_data: 100%|██████████| 2394/2394 [00:06<00:00, 374.44it/s]\n",
      "Writing /data/conditions: 100%|██████████| 2393/2393 [00:06<00:00, 388.11it/s]\n"
     ]
    }
   ],
   "source": [
    "gd.write_zarr(\n",
    "    path=OUTPUT_PATH,\n",
    "    chunk_size=chunk_size,\n",
    "    shard_size=shard_size,\n",
    "    max_workers=14,\n",
    ")"
   ]
  },
  {
   "cell_type": "code",
   "execution_count": 9,
   "id": "7282d42b",
   "metadata": {},
   "outputs": [],
   "source": [
    "gd = GroupedDistribution.read_zarr(OUTPUT_PATH)"
   ]
  },
  {
   "cell_type": "code",
   "execution_count": null,
   "id": "dfa68aca",
   "metadata": {},
   "outputs": [],
   "source": []
  }
 ],
 "metadata": {
  "kernelspec": {
   "display_name": "Python 3",
   "language": "python",
   "name": "python3"
  },
  "language_info": {
   "codemirror_mode": {
    "name": "ipython",
    "version": 3
   },
   "file_extension": ".py",
   "mimetype": "text/x-python",
   "name": "python",
   "nbconvert_exporter": "python",
   "pygments_lexer": "ipython3",
   "version": "3.12.11"
  }
 },
 "nbformat": 4,
 "nbformat_minor": 5
}
